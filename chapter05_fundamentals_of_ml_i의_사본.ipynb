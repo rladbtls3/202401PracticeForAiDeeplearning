{
  "cells": [
    {
      "cell_type": "markdown",
      "metadata": {
        "id": "view-in-github",
        "colab_type": "text"
      },
      "source": [
        "<a href=\"https://colab.research.google.com/github/rladbtls3/202401PracticeForAiDeeplearning/blob/main/chapter05_fundamentals_of_ml_i%EC%9D%98_%EC%82%AC%EB%B3%B8.ipynb\" target=\"_parent\"><img src=\"https://colab.research.google.com/assets/colab-badge.svg\" alt=\"Open In Colab\"/></a>"
      ]
    },
    {
      "cell_type": "markdown",
      "metadata": {
        "id": "rQsd0g85wzhZ"
      },
      "source": [
        "This is a companion notebook for the book [Deep Learning with Python, Second Edition](https://www.manning.com/books/deep-learning-with-python-second-edition?a_aid=keras&a_bid=76564dff). For readability, it only contains runnable code blocks and section titles, and omits everything else in the book: text paragraphs, figures, and pseudocode.\n",
        "\n",
        "**If you want to be able to follow what's going on, I recommend reading the notebook side by side with your copy of the book.**\n",
        "\n",
        "This notebook was generated for TensorFlow 2.6."
      ]
    },
    {
      "cell_type": "markdown",
      "metadata": {
        "id": "qj6baiLBwzhb"
      },
      "source": [
        "# Fundamentals of machine learning"
      ]
    },
    {
      "cell_type": "markdown",
      "metadata": {
        "id": "jYwHXWzGwzhd"
      },
      "source": [
        "## Generalization: The goal of machine learning"
      ]
    },
    {
      "cell_type": "markdown",
      "source": [
        "Optimization: 모델이 train data에 대해 최적의 성능을 내도록 조정하는 것\n",
        "\n",
        "Generalization: 훈련된 모델이 신규 데이터에 대해 적절한 결과를 내도록 하는 것\n",
        "\n",
        "Regularization: 모델 과적합이 일어나는 걸 방지하는 과정"
      ],
      "metadata": {
        "id": "RGOQ8p-oZOJB"
      }
    },
    {
      "cell_type": "markdown",
      "metadata": {
        "id": "Xo04NPLawzhe"
      },
      "source": [
        "### Underfitting and overfitting"
      ]
    },
    {
      "cell_type": "markdown",
      "source": [
        "Underfitting: 과소적합, 보통 train data에서도 Acc가 낮게 나온다\n",
        "\n",
        "Overfitting: 과적합, train data의 Acc은 높게 나오지만 validation Acc가 낮아지는 경우. 즉, 새로운 data에 대한 예측이 원활하게 이루어지지 않음.\n",
        "\n",
        "그 중간 어딘가에 Robust fit의 지점이 있다...?"
      ],
      "metadata": {
        "id": "2U7m3fV3aYkc"
      }
    },
    {
      "cell_type": "markdown",
      "metadata": {
        "id": "AH9d8Z9awzhe"
      },
      "source": [
        "#### Noisy training data"
      ]
    },
    {
      "cell_type": "markdown",
      "metadata": {
        "id": "d9LNb1Kdwzhf"
      },
      "source": [
        "#### Ambiguous features"
      ]
    },
    {
      "cell_type": "markdown",
      "metadata": {
        "id": "Yh_Jb0Xawzhg"
      },
      "source": [
        "#### Rare features and spurious correlations"
      ]
    },
    {
      "cell_type": "markdown",
      "metadata": {
        "id": "JePO98mRwzhg"
      },
      "source": [
        "**Adding white-noise channels or all-zeros channels to MNIST**"
      ]
    },
    {
      "cell_type": "code",
      "execution_count": null,
      "metadata": {
        "id": "ebD660qrwzhh",
        "colab": {
          "base_uri": "https://localhost:8080/"
        },
        "outputId": "dd8456a1-b19a-4bdd-f8ff-04e6563f4173"
      },
      "outputs": [
        {
          "output_type": "stream",
          "name": "stdout",
          "text": [
            "Downloading data from https://storage.googleapis.com/tensorflow/tf-keras-datasets/mnist.npz\n",
            "11490434/11490434 [==============================] - 0s 0us/step\n"
          ]
        }
      ],
      "source": [
        "from tensorflow.keras.datasets import mnist\n",
        "import numpy as np\n",
        "\n",
        "(train_images, train_labels), _ = mnist.load_data()\n",
        "train_images = train_images.reshape((60000, 28 * 28))\n",
        "train_images = train_images.astype(\"float32\") / 255\n",
        "\n",
        "train_images_with_noise_channels = np.concatenate(\n",
        "    [train_images, np.random.random((len(train_images), 784))], axis=1)#noise ch 추가\n",
        "\n",
        "train_images_with_zeros_channels = np.concatenate(\n",
        "    [train_images, np.zeros((len(train_images), 784))], axis=1)#zeros ch 추가"
      ]
    },
    {
      "cell_type": "markdown",
      "metadata": {
        "id": "tXAxcqFowzhi"
      },
      "source": [
        "**Training the same model on MNIST data with noise channels or all-zero channels**"
      ]
    },
    {
      "cell_type": "code",
      "execution_count": null,
      "metadata": {
        "id": "JD8Yq58dwzhi",
        "colab": {
          "base_uri": "https://localhost:8080/"
        },
        "outputId": "dadb9ad8-9744-433e-d369-7da9d2d80ce1"
      },
      "outputs": [
        {
          "output_type": "stream",
          "name": "stdout",
          "text": [
            "Epoch 1/10\n",
            "375/375 [==============================] - 21s 50ms/step - loss: 0.6058 - accuracy: 0.8132 - val_loss: 0.2966 - val_accuracy: 0.9091\n",
            "Epoch 2/10\n",
            "375/375 [==============================] - 8s 22ms/step - loss: 0.2627 - accuracy: 0.9190 - val_loss: 0.2051 - val_accuracy: 0.9392\n",
            "Epoch 3/10\n",
            "375/375 [==============================] - 9s 24ms/step - loss: 0.1742 - accuracy: 0.9463 - val_loss: 0.1634 - val_accuracy: 0.9510\n",
            "Epoch 4/10\n",
            "375/375 [==============================] - 9s 25ms/step - loss: 0.1268 - accuracy: 0.9602 - val_loss: 0.1712 - val_accuracy: 0.9462\n",
            "Epoch 5/10\n",
            "375/375 [==============================] - 8s 21ms/step - loss: 0.0924 - accuracy: 0.9714 - val_loss: 0.1498 - val_accuracy: 0.9544\n",
            "Epoch 6/10\n",
            "375/375 [==============================] - 9s 23ms/step - loss: 0.0680 - accuracy: 0.9787 - val_loss: 0.1321 - val_accuracy: 0.9631\n",
            "Epoch 7/10\n",
            "375/375 [==============================] - 9s 25ms/step - loss: 0.0528 - accuracy: 0.9835 - val_loss: 0.1270 - val_accuracy: 0.9657\n",
            "Epoch 8/10\n",
            "375/375 [==============================] - 8s 20ms/step - loss: 0.0368 - accuracy: 0.9885 - val_loss: 0.1300 - val_accuracy: 0.9631\n",
            "Epoch 9/10\n",
            "375/375 [==============================] - 9s 23ms/step - loss: 0.0281 - accuracy: 0.9915 - val_loss: 0.1233 - val_accuracy: 0.9668\n",
            "Epoch 10/10\n",
            "375/375 [==============================] - 9s 25ms/step - loss: 0.0212 - accuracy: 0.9933 - val_loss: 0.1815 - val_accuracy: 0.9528\n",
            "Epoch 1/10\n",
            "375/375 [==============================] - 8s 21ms/step - loss: 0.2942 - accuracy: 0.9140 - val_loss: 0.1536 - val_accuracy: 0.9559\n",
            "Epoch 2/10\n",
            "375/375 [==============================] - 8s 22ms/step - loss: 0.1215 - accuracy: 0.9641 - val_loss: 0.1168 - val_accuracy: 0.9648\n",
            "Epoch 3/10\n",
            "375/375 [==============================] - 9s 24ms/step - loss: 0.0800 - accuracy: 0.9758 - val_loss: 0.0909 - val_accuracy: 0.9722\n",
            "Epoch 4/10\n",
            "375/375 [==============================] - 7s 19ms/step - loss: 0.0582 - accuracy: 0.9825 - val_loss: 0.0864 - val_accuracy: 0.9747\n",
            "Epoch 5/10\n",
            "375/375 [==============================] - 9s 23ms/step - loss: 0.0438 - accuracy: 0.9873 - val_loss: 0.0779 - val_accuracy: 0.9763\n",
            "Epoch 6/10\n",
            "375/375 [==============================] - 8s 22ms/step - loss: 0.0330 - accuracy: 0.9898 - val_loss: 0.0724 - val_accuracy: 0.9800\n",
            "Epoch 7/10\n",
            "375/375 [==============================] - 8s 22ms/step - loss: 0.0255 - accuracy: 0.9929 - val_loss: 0.0723 - val_accuracy: 0.9788\n",
            "Epoch 8/10\n",
            "375/375 [==============================] - 8s 22ms/step - loss: 0.0188 - accuracy: 0.9949 - val_loss: 0.0743 - val_accuracy: 0.9801\n",
            "Epoch 9/10\n",
            "375/375 [==============================] - 7s 19ms/step - loss: 0.0143 - accuracy: 0.9965 - val_loss: 0.0717 - val_accuracy: 0.9799\n",
            "Epoch 10/10\n",
            "375/375 [==============================] - 9s 24ms/step - loss: 0.0102 - accuracy: 0.9976 - val_loss: 0.0800 - val_accuracy: 0.9793\n"
          ]
        }
      ],
      "source": [
        "from tensorflow import keras\n",
        "from tensorflow.keras import layers\n",
        "\n",
        "def get_model():\n",
        "    model = keras.Sequential([\n",
        "        layers.Dense(512, activation=\"relu\"),\n",
        "        layers.Dense(10, activation=\"softmax\")\n",
        "    ])\n",
        "    model.compile(optimizer=\"rmsprop\",\n",
        "                  loss=\"sparse_categorical_crossentropy\",\n",
        "                  metrics=[\"accuracy\"])\n",
        "    return model\n",
        "#모델 함수 지정\n",
        "\n",
        "model = get_model()\n",
        "history_noise = model.fit(\n",
        "    train_images_with_noise_channels, train_labels,\n",
        "    epochs=10,\n",
        "    batch_size=128,\n",
        "    validation_split=0.2)\n",
        "#noise ch를 추가한 train data를 이용, 모델 적합\n",
        "\n",
        "model = get_model()\n",
        "history_zeros = model.fit(\n",
        "    train_images_with_zeros_channels, train_labels,\n",
        "    epochs=10,\n",
        "    batch_size=128,\n",
        "    validation_split=0.2)\n",
        "#zeros ch를 추가한 train data를 이용, 모델 적합\n"
      ]
    },
    {
      "cell_type": "markdown",
      "metadata": {
        "id": "S0VXiVE7wzhj"
      },
      "source": [
        "**Plotting a validation accuracy comparison**"
      ]
    },
    {
      "cell_type": "code",
      "execution_count": null,
      "metadata": {
        "id": "zxatYBNnwzhj",
        "colab": {
          "base_uri": "https://localhost:8080/",
          "height": 307
        },
        "outputId": "331df196-5c0d-40ef-8e67-a2fdbd7dfbac"
      },
      "outputs": [
        {
          "output_type": "execute_result",
          "data": {
            "text/plain": [
              "<matplotlib.legend.Legend at 0x78f34bf7be80>"
            ]
          },
          "metadata": {},
          "execution_count": 3
        },
        {
          "output_type": "display_data",
          "data": {
            "text/plain": [
              "<Figure size 640x480 with 1 Axes>"
            ],
            "image/png": "[encoded data removed]"
          },
          "metadata": {}
        }
      ],
      "source": [
        "import matplotlib.pyplot as plt\n",
        "val_acc_noise = history_noise.history[\"val_accuracy\"]\n",
        "val_acc_zeros = history_zeros.history[\"val_accuracy\"]\n",
        "epochs = range(1, 11)\n",
        "plt.plot(epochs, val_acc_noise, \"b-\",\n",
        "         label=\"Validation accuracy with noise channels\")\n",
        "plt.plot(epochs, val_acc_zeros, \"b--\",\n",
        "         label=\"Validation accuracy with zeros channels\")\n",
        "plt.title(\"Effect of noise channels on validation accuracy\")\n",
        "plt.xlabel(\"Epochs\")\n",
        "plt.ylabel(\"Accuracy\")\n",
        "plt.legend()\n",
        "\n",
        "#즉, 정제되지 않은 data는 모델 적합에 어려움을 준다는 결론\n",
        "#feature selection의 중요성"
      ]
    },
    {
      "cell_type": "markdown",
      "metadata": {
        "id": "VtLApe0jwzhk"
      },
      "source": [
        "### The nature of generalization in deep learning"
      ]
    },
    {
      "cell_type": "markdown",
      "metadata": {
        "id": "wqpQygKIwzhk"
      },
      "source": [
        "**Fitting a MNIST model with randomly shuffled labels**"
      ]
    },
    {
      "cell_type": "code",
      "source": [
        "#https://blog.naver.com/coniecual/221417921857\n",
        "#manifold 참고"
      ],
      "metadata": {
        "id": "pi8GpXZGlWrv"
      },
      "execution_count": null,
      "outputs": []
    },
    {
      "cell_type": "code",
      "execution_count": null,
      "metadata": {
        "id": "4RILoKP0wzhk",
        "colab": {
          "base_uri": "https://localhost:8080/"
        },
        "outputId": "ac603e70-bfd3-4cfc-8b8f-d5a26e733a04"
      },
      "outputs": [
        {
          "output_type": "stream",
          "name": "stdout",
          "text": [
            "Epoch 1/100\n",
            "375/375 [==============================] - 6s 14ms/step - loss: 2.3173 - accuracy: 0.1018 - val_loss: 2.3049 - val_accuracy: 0.1042\n",
            "Epoch 2/100\n",
            "375/375 [==============================] - 4s 10ms/step - loss: 2.2990 - accuracy: 0.1190 - val_loss: 2.3139 - val_accuracy: 0.1017\n",
            "Epoch 3/100\n",
            "375/375 [==============================] - 4s 11ms/step - loss: 2.2911 - accuracy: 0.1266 - val_loss: 2.3168 - val_accuracy: 0.1022\n",
            "Epoch 4/100\n",
            "375/375 [==============================] - 5s 14ms/step - loss: 2.2787 - accuracy: 0.1395 - val_loss: 2.3231 - val_accuracy: 0.1029\n",
            "Epoch 5/100\n",
            "375/375 [==============================] - 5s 12ms/step - loss: 2.2636 - accuracy: 0.1531 - val_loss: 2.3346 - val_accuracy: 0.1023\n",
            "Epoch 6/100\n",
            "375/375 [==============================] - 4s 11ms/step - loss: 2.2433 - accuracy: 0.1667 - val_loss: 2.3441 - val_accuracy: 0.1004\n",
            "Epoch 7/100\n",
            "375/375 [==============================] - 5s 14ms/step - loss: 2.2202 - accuracy: 0.1806 - val_loss: 2.3547 - val_accuracy: 0.1000\n",
            "Epoch 8/100\n",
            "375/375 [==============================] - 5s 12ms/step - loss: 2.1925 - accuracy: 0.1963 - val_loss: 2.3761 - val_accuracy: 0.1033\n",
            "Epoch 9/100\n",
            "375/375 [==============================] - 4s 12ms/step - loss: 2.1621 - accuracy: 0.2149 - val_loss: 2.4069 - val_accuracy: 0.0992\n",
            "Epoch 10/100\n",
            "375/375 [==============================] - 5s 14ms/step - loss: 2.1298 - accuracy: 0.2286 - val_loss: 2.4215 - val_accuracy: 0.0985\n",
            "Epoch 11/100\n",
            "375/375 [==============================] - 4s 11ms/step - loss: 2.0950 - accuracy: 0.2473 - val_loss: 2.4517 - val_accuracy: 0.1032\n",
            "Epoch 12/100\n",
            "375/375 [==============================] - 5s 13ms/step - loss: 2.0570 - accuracy: 0.2669 - val_loss: 2.4783 - val_accuracy: 0.1023\n",
            "Epoch 13/100\n",
            "375/375 [==============================] - 5s 12ms/step - loss: 2.0184 - accuracy: 0.2835 - val_loss: 2.5098 - val_accuracy: 0.1046\n",
            "Epoch 14/100\n",
            "375/375 [==============================] - 4s 11ms/step - loss: 1.9813 - accuracy: 0.2993 - val_loss: 2.5341 - val_accuracy: 0.1028\n",
            "Epoch 15/100\n",
            "375/375 [==============================] - 9s 23ms/step - loss: 1.9414 - accuracy: 0.3169 - val_loss: 2.5695 - val_accuracy: 0.1043\n",
            "Epoch 16/100\n",
            "375/375 [==============================] - 4s 12ms/step - loss: 1.9025 - accuracy: 0.3324 - val_loss: 2.5890 - val_accuracy: 0.1009\n",
            "Epoch 17/100\n",
            "375/375 [==============================] - 4s 11ms/step - loss: 1.8612 - accuracy: 0.3496 - val_loss: 2.6245 - val_accuracy: 0.1002\n",
            "Epoch 18/100\n",
            "375/375 [==============================] - 5s 14ms/step - loss: 1.8221 - accuracy: 0.3669 - val_loss: 2.6750 - val_accuracy: 0.1049\n",
            "Epoch 19/100\n",
            "375/375 [==============================] - 4s 12ms/step - loss: 1.7847 - accuracy: 0.3790 - val_loss: 2.7175 - val_accuracy: 0.1012\n",
            "Epoch 20/100\n",
            "375/375 [==============================] - 4s 12ms/step - loss: 1.7451 - accuracy: 0.3979 - val_loss: 2.7543 - val_accuracy: 0.1095\n",
            "Epoch 21/100\n",
            "375/375 [==============================] - 5s 13ms/step - loss: 1.7058 - accuracy: 0.4116 - val_loss: 2.8010 - val_accuracy: 0.1027\n",
            "Epoch 22/100\n",
            "375/375 [==============================] - 5s 12ms/step - loss: 1.6694 - accuracy: 0.4266 - val_loss: 2.8351 - val_accuracy: 0.1034\n",
            "Epoch 23/100\n",
            "375/375 [==============================] - 5s 14ms/step - loss: 1.6309 - accuracy: 0.4398 - val_loss: 2.8814 - val_accuracy: 0.1027\n",
            "Epoch 24/100\n",
            "375/375 [==============================] - 4s 11ms/step - loss: 1.5946 - accuracy: 0.4540 - val_loss: 2.9240 - val_accuracy: 0.1029\n",
            "Epoch 25/100\n",
            "375/375 [==============================] - 5s 12ms/step - loss: 1.5602 - accuracy: 0.4671 - val_loss: 2.9656 - val_accuracy: 0.1028\n",
            "Epoch 26/100\n",
            "375/375 [==============================] - 5s 14ms/step - loss: 1.5257 - accuracy: 0.4798 - val_loss: 3.0016 - val_accuracy: 0.1040\n",
            "Epoch 27/100\n",
            "375/375 [==============================] - 4s 11ms/step - loss: 1.4915 - accuracy: 0.4940 - val_loss: 3.0644 - val_accuracy: 0.1032\n",
            "Epoch 28/100\n",
            "375/375 [==============================] - 4s 11ms/step - loss: 1.4582 - accuracy: 0.5051 - val_loss: 3.1365 - val_accuracy: 0.1019\n",
            "Epoch 29/100\n",
            "375/375 [==============================] - 6s 15ms/step - loss: 1.4260 - accuracy: 0.5149 - val_loss: 3.1631 - val_accuracy: 0.0988\n",
            "Epoch 30/100\n",
            "375/375 [==============================] - 4s 11ms/step - loss: 1.3961 - accuracy: 0.5293 - val_loss: 3.2176 - val_accuracy: 0.1033\n",
            "Epoch 31/100\n",
            "375/375 [==============================] - 5s 12ms/step - loss: 1.3631 - accuracy: 0.5422 - val_loss: 3.2775 - val_accuracy: 0.1009\n",
            "Epoch 32/100\n",
            "375/375 [==============================] - 5s 13ms/step - loss: 1.3344 - accuracy: 0.5511 - val_loss: 3.3138 - val_accuracy: 0.1037\n",
            "Epoch 33/100\n",
            "375/375 [==============================] - 4s 11ms/step - loss: 1.3035 - accuracy: 0.5614 - val_loss: 3.4092 - val_accuracy: 0.1014\n",
            "Epoch 34/100\n",
            "375/375 [==============================] - 5s 14ms/step - loss: 1.2763 - accuracy: 0.5704 - val_loss: 3.4319 - val_accuracy: 0.1039\n",
            "Epoch 35/100\n",
            "375/375 [==============================] - 5s 13ms/step - loss: 1.2479 - accuracy: 0.5841 - val_loss: 3.5135 - val_accuracy: 0.1013\n",
            "Epoch 36/100\n",
            "375/375 [==============================] - 4s 11ms/step - loss: 1.2205 - accuracy: 0.5918 - val_loss: 3.5327 - val_accuracy: 0.1049\n",
            "Epoch 37/100\n",
            "375/375 [==============================] - 5s 14ms/step - loss: 1.1960 - accuracy: 0.6004 - val_loss: 3.5506 - val_accuracy: 0.1024\n",
            "Epoch 38/100\n",
            "375/375 [==============================] - 4s 12ms/step - loss: 1.1687 - accuracy: 0.6102 - val_loss: 3.6666 - val_accuracy: 0.0978\n",
            "Epoch 39/100\n",
            "375/375 [==============================] - 4s 12ms/step - loss: 1.1432 - accuracy: 0.6196 - val_loss: 3.7227 - val_accuracy: 0.0971\n",
            "Epoch 40/100\n",
            "375/375 [==============================] - 5s 13ms/step - loss: 1.1193 - accuracy: 0.6279 - val_loss: 3.7652 - val_accuracy: 0.1028\n",
            "Epoch 41/100\n",
            "375/375 [==============================] - 4s 11ms/step - loss: 1.0959 - accuracy: 0.6371 - val_loss: 3.8551 - val_accuracy: 0.1034\n",
            "Epoch 42/100\n",
            "375/375 [==============================] - 4s 12ms/step - loss: 1.0719 - accuracy: 0.6439 - val_loss: 3.8611 - val_accuracy: 0.1031\n",
            "Epoch 43/100\n",
            "375/375 [==============================] - 5s 13ms/step - loss: 1.0492 - accuracy: 0.6539 - val_loss: 3.9333 - val_accuracy: 0.1009\n",
            "Epoch 44/100\n",
            "375/375 [==============================] - 4s 11ms/step - loss: 1.0287 - accuracy: 0.6610 - val_loss: 4.0230 - val_accuracy: 0.1005\n",
            "Epoch 45/100\n",
            "375/375 [==============================] - 5s 14ms/step - loss: 1.0045 - accuracy: 0.6678 - val_loss: 4.0775 - val_accuracy: 0.1004\n",
            "Epoch 46/100\n",
            "375/375 [==============================] - 4s 12ms/step - loss: 0.9841 - accuracy: 0.6728 - val_loss: 4.1535 - val_accuracy: 0.1000\n",
            "Epoch 47/100\n",
            "375/375 [==============================] - 5s 12ms/step - loss: 0.9644 - accuracy: 0.6816 - val_loss: 4.2075 - val_accuracy: 0.1040\n",
            "Epoch 48/100\n",
            "375/375 [==============================] - 5s 14ms/step - loss: 0.9440 - accuracy: 0.6911 - val_loss: 4.2666 - val_accuracy: 0.1024\n",
            "Epoch 49/100\n",
            "375/375 [==============================] - 4s 11ms/step - loss: 0.9224 - accuracy: 0.6982 - val_loss: 4.3654 - val_accuracy: 0.1004\n",
            "Epoch 50/100\n",
            "375/375 [==============================] - 4s 11ms/step - loss: 0.9041 - accuracy: 0.7023 - val_loss: 4.3902 - val_accuracy: 0.0983\n",
            "Epoch 51/100\n",
            "375/375 [==============================] - 5s 14ms/step - loss: 0.8868 - accuracy: 0.7099 - val_loss: 4.4750 - val_accuracy: 0.1021\n",
            "Epoch 52/100\n",
            "375/375 [==============================] - 4s 12ms/step - loss: 0.8682 - accuracy: 0.7189 - val_loss: 4.5524 - val_accuracy: 0.1005\n",
            "Epoch 53/100\n",
            "375/375 [==============================] - 4s 12ms/step - loss: 0.8495 - accuracy: 0.7245 - val_loss: 4.5860 - val_accuracy: 0.1009\n",
            "Epoch 54/100\n",
            "375/375 [==============================] - 5s 14ms/step - loss: 0.8351 - accuracy: 0.7279 - val_loss: 4.6689 - val_accuracy: 0.0995\n",
            "Epoch 55/100\n",
            "375/375 [==============================] - 4s 11ms/step - loss: 0.8148 - accuracy: 0.7345 - val_loss: 4.7762 - val_accuracy: 0.1001\n",
            "Epoch 56/100\n",
            "375/375 [==============================] - 5s 13ms/step - loss: 0.7983 - accuracy: 0.7396 - val_loss: 4.7831 - val_accuracy: 0.1006\n",
            "Epoch 57/100\n",
            "375/375 [==============================] - 5s 12ms/step - loss: 0.7826 - accuracy: 0.7447 - val_loss: 4.8448 - val_accuracy: 0.0990\n",
            "Epoch 58/100\n",
            "375/375 [==============================] - 4s 11ms/step - loss: 0.7684 - accuracy: 0.7499 - val_loss: 4.9382 - val_accuracy: 0.0992\n",
            "Epoch 59/100\n",
            "375/375 [==============================] - 5s 14ms/step - loss: 0.7530 - accuracy: 0.7546 - val_loss: 4.9766 - val_accuracy: 0.0999\n",
            "Epoch 60/100\n",
            "375/375 [==============================] - 4s 11ms/step - loss: 0.7367 - accuracy: 0.7628 - val_loss: 5.0198 - val_accuracy: 0.1030\n",
            "Epoch 61/100\n",
            "375/375 [==============================] - 4s 12ms/step - loss: 0.7191 - accuracy: 0.7678 - val_loss: 5.1324 - val_accuracy: 0.1003\n",
            "Epoch 62/100\n",
            "375/375 [==============================] - 5s 14ms/step - loss: 0.7084 - accuracy: 0.7711 - val_loss: 5.2043 - val_accuracy: 0.1014\n",
            "Epoch 63/100\n",
            "375/375 [==============================] - 5s 12ms/step - loss: 0.6934 - accuracy: 0.7761 - val_loss: 5.2767 - val_accuracy: 0.1013\n",
            "Epoch 64/100\n",
            "375/375 [==============================] - 4s 11ms/step - loss: 0.6791 - accuracy: 0.7801 - val_loss: 5.3288 - val_accuracy: 0.1021\n",
            "Epoch 65/100\n",
            "375/375 [==============================] - 5s 14ms/step - loss: 0.6644 - accuracy: 0.7867 - val_loss: 5.3799 - val_accuracy: 0.0991\n",
            "Epoch 66/100\n",
            "375/375 [==============================] - 5s 13ms/step - loss: 0.6508 - accuracy: 0.7901 - val_loss: 5.4498 - val_accuracy: 0.0997\n",
            "Epoch 67/100\n",
            "375/375 [==============================] - 5s 14ms/step - loss: 0.6387 - accuracy: 0.7950 - val_loss: 5.5083 - val_accuracy: 0.1005\n",
            "Epoch 68/100\n",
            "375/375 [==============================] - 4s 11ms/step - loss: 0.6264 - accuracy: 0.8000 - val_loss: 5.6152 - val_accuracy: 0.1014\n",
            "Epoch 69/100\n",
            "375/375 [==============================] - 4s 11ms/step - loss: 0.6137 - accuracy: 0.8034 - val_loss: 5.7150 - val_accuracy: 0.1007\n",
            "Epoch 70/100\n",
            "375/375 [==============================] - 5s 15ms/step - loss: 0.6019 - accuracy: 0.8078 - val_loss: 5.7805 - val_accuracy: 0.1029\n",
            "Epoch 71/100\n",
            "375/375 [==============================] - 4s 11ms/step - loss: 0.5893 - accuracy: 0.8128 - val_loss: 5.8541 - val_accuracy: 0.1027\n",
            "Epoch 72/100\n",
            "375/375 [==============================] - 4s 12ms/step - loss: 0.5770 - accuracy: 0.8157 - val_loss: 5.8876 - val_accuracy: 0.1001\n",
            "Epoch 73/100\n",
            "375/375 [==============================] - 5s 14ms/step - loss: 0.5640 - accuracy: 0.8201 - val_loss: 5.9665 - val_accuracy: 0.0993\n",
            "Epoch 74/100\n",
            "375/375 [==============================] - 4s 12ms/step - loss: 0.5530 - accuracy: 0.8254 - val_loss: 6.0676 - val_accuracy: 0.0996\n",
            "Epoch 75/100\n",
            "375/375 [==============================] - 5s 14ms/step - loss: 0.5422 - accuracy: 0.8276 - val_loss: 6.1579 - val_accuracy: 0.0974\n",
            "Epoch 76/100\n",
            "375/375 [==============================] - 5s 13ms/step - loss: 0.5332 - accuracy: 0.8311 - val_loss: 6.2145 - val_accuracy: 0.1017\n",
            "Epoch 77/100\n",
            "375/375 [==============================] - 4s 12ms/step - loss: 0.5231 - accuracy: 0.8343 - val_loss: 6.2576 - val_accuracy: 0.0979\n",
            "Epoch 78/100\n",
            "375/375 [==============================] - 5s 15ms/step - loss: 0.5136 - accuracy: 0.8363 - val_loss: 6.4082 - val_accuracy: 0.0985\n",
            "Epoch 79/100\n",
            "375/375 [==============================] - 5s 12ms/step - loss: 0.5035 - accuracy: 0.8426 - val_loss: 6.4268 - val_accuracy: 0.0997\n",
            "Epoch 80/100\n",
            "375/375 [==============================] - 4s 12ms/step - loss: 0.4942 - accuracy: 0.8453 - val_loss: 6.5030 - val_accuracy: 0.1012\n",
            "Epoch 81/100\n",
            "375/375 [==============================] - 6s 15ms/step - loss: 0.4839 - accuracy: 0.8471 - val_loss: 6.5862 - val_accuracy: 0.1009\n",
            "Epoch 82/100\n",
            "375/375 [==============================] - 4s 11ms/step - loss: 0.4724 - accuracy: 0.8512 - val_loss: 6.6700 - val_accuracy: 0.0976\n",
            "Epoch 83/100\n",
            "375/375 [==============================] - 5s 12ms/step - loss: 0.4667 - accuracy: 0.8536 - val_loss: 6.7700 - val_accuracy: 0.1006\n",
            "Epoch 84/100\n",
            "375/375 [==============================] - 5s 13ms/step - loss: 0.4560 - accuracy: 0.8571 - val_loss: 6.7729 - val_accuracy: 0.1019\n",
            "Epoch 85/100\n",
            "375/375 [==============================] - 4s 11ms/step - loss: 0.4466 - accuracy: 0.8596 - val_loss: 6.9026 - val_accuracy: 0.0992\n",
            "Epoch 86/100\n",
            "375/375 [==============================] - 6s 16ms/step - loss: 0.4379 - accuracy: 0.8635 - val_loss: 6.9108 - val_accuracy: 0.1014\n",
            "Epoch 87/100\n",
            "375/375 [==============================] - 4s 11ms/step - loss: 0.4309 - accuracy: 0.8640 - val_loss: 7.0190 - val_accuracy: 0.1013\n",
            "Epoch 88/100\n",
            "375/375 [==============================] - 4s 11ms/step - loss: 0.4213 - accuracy: 0.8690 - val_loss: 7.1000 - val_accuracy: 0.1033\n",
            "Epoch 89/100\n",
            "375/375 [==============================] - 5s 14ms/step - loss: 0.4157 - accuracy: 0.8707 - val_loss: 7.1837 - val_accuracy: 0.0986\n",
            "Epoch 90/100\n",
            "375/375 [==============================] - 5s 12ms/step - loss: 0.4058 - accuracy: 0.8736 - val_loss: 7.2211 - val_accuracy: 0.1014\n",
            "Epoch 91/100\n",
            "375/375 [==============================] - 4s 12ms/step - loss: 0.3994 - accuracy: 0.8757 - val_loss: 7.3536 - val_accuracy: 0.1000\n",
            "Epoch 92/100\n",
            "375/375 [==============================] - 5s 13ms/step - loss: 0.3923 - accuracy: 0.8788 - val_loss: 7.3913 - val_accuracy: 0.0998\n",
            "Epoch 93/100\n",
            "375/375 [==============================] - 4s 11ms/step - loss: 0.3859 - accuracy: 0.8806 - val_loss: 7.4984 - val_accuracy: 0.0971\n",
            "Epoch 94/100\n",
            "375/375 [==============================] - 5s 13ms/step - loss: 0.3783 - accuracy: 0.8830 - val_loss: 7.5589 - val_accuracy: 0.1002\n",
            "Epoch 95/100\n",
            "375/375 [==============================] - 5s 12ms/step - loss: 0.3724 - accuracy: 0.8851 - val_loss: 7.6855 - val_accuracy: 0.0978\n",
            "Epoch 96/100\n",
            "375/375 [==============================] - 4s 12ms/step - loss: 0.3632 - accuracy: 0.8880 - val_loss: 7.7083 - val_accuracy: 0.1023\n",
            "Epoch 97/100\n",
            "375/375 [==============================] - 5s 14ms/step - loss: 0.3582 - accuracy: 0.8879 - val_loss: 7.8124 - val_accuracy: 0.1000\n",
            "Epoch 98/100\n",
            "375/375 [==============================] - 4s 11ms/step - loss: 0.3512 - accuracy: 0.8918 - val_loss: 7.8868 - val_accuracy: 0.0999\n",
            "Epoch 99/100\n",
            "375/375 [==============================] - 4s 12ms/step - loss: 0.3452 - accuracy: 0.8940 - val_loss: 7.9567 - val_accuracy: 0.1025\n",
            "Epoch 100/100\n",
            "375/375 [==============================] - 5s 14ms/step - loss: 0.3378 - accuracy: 0.8957 - val_loss: 8.0849 - val_accuracy: 0.0985\n"
          ]
        },
        {
          "output_type": "execute_result",
          "data": {
            "text/plain": [
              "<keras.callbacks.History at 0x78f34bef0ca0>"
            ]
          },
          "metadata": {},
          "execution_count": 5
        }
      ],
      "source": [
        "(train_images, train_labels), _ = mnist.load_data()\n",
        "train_images = train_images.reshape((60000, 28 * 28))\n",
        "train_images = train_images.astype(\"float32\") / 255\n",
        "\n",
        "random_train_labels = train_labels[:]\n",
        "np.random.shuffle(random_train_labels)\n",
        "\n",
        "model = keras.Sequential([\n",
        "    layers.Dense(512, activation=\"relu\"),\n",
        "    layers.Dense(10, activation=\"softmax\")\n",
        "])\n",
        "model.compile(optimizer=\"rmsprop\",\n",
        "              loss=\"sparse_categorical_crossentropy\",\n",
        "              metrics=[\"accuracy\"])\n",
        "model.fit(train_images, random_train_labels,\n",
        "          epochs=100,\n",
        "          batch_size=128,\n",
        "          validation_split=0.2)"
      ]
    },
    {
      "cell_type": "markdown",
      "metadata": {
        "id": "tGfqaqskwzhl"
      },
      "source": [
        "#### The manifold hypothesis"
      ]
    },
    {
      "cell_type": "markdown",
      "metadata": {
        "id": "9NWpXcj2wzhl"
      },
      "source": [
        "#### Interpolation as a source of generalization"
      ]
    },
    {
      "cell_type": "markdown",
      "metadata": {
        "id": "txteLsUbwzhl"
      },
      "source": [
        "#### Why deep learning works"
      ]
    },
    {
      "cell_type": "markdown",
      "metadata": {
        "id": "fXPLJMWFwzhl"
      },
      "source": [
        "#### Training data is paramount"
      ]
    },
    {
      "cell_type": "markdown",
      "metadata": {
        "id": "xwmM1yvTwzhm"
      },
      "source": [
        "## Evaluating machine-learning models"
      ]
    },
    {
      "cell_type": "markdown",
      "metadata": {
        "id": "vUy0yhjnwzhm"
      },
      "source": [
        "### Training, validation, and test sets"
      ]
    },
    {
      "cell_type": "markdown",
      "metadata": {
        "id": "9oJ9awx6wzhm"
      },
      "source": [
        "#### Simple hold-out validation"
      ]
    },
    {
      "cell_type": "markdown",
      "metadata": {
        "id": "7tMO0kXkwzhm"
      },
      "source": [
        "#### K-fold validation"
      ]
    },
    {
      "cell_type": "markdown",
      "metadata": {
        "id": "ZAGZwbrPwzhm"
      },
      "source": [
        "#### Iterated K-fold validation with shuffling"
      ]
    },
    {
      "cell_type": "markdown",
      "metadata": {
        "id": "9dYylXUjwzhm"
      },
      "source": [
        "### Beating a common-sense baseline"
      ]
    },
    {
      "cell_type": "markdown",
      "metadata": {
        "id": "dc1w7iwGwzhm"
      },
      "source": [
        "### Things to keep in mind about model evaluation"
      ]
    },
    {
      "cell_type": "markdown",
      "metadata": {
        "id": "h1HqBxA1wzhn"
      },
      "source": [
        "## Improving model fit"
      ]
    },
    {
      "cell_type": "markdown",
      "metadata": {
        "id": "06IBTeuSwzhn"
      },
      "source": [
        "### Tuning key gradient descent parameters"
      ]
    },
    {
      "cell_type": "markdown",
      "metadata": {
        "id": "m1G54W3cwzhn"
      },
      "source": [
        "**Training a MNIST model with an incorrectly high learning rate**"
      ]
    },
    {
      "cell_type": "code",
      "execution_count": null,
      "metadata": {
        "id": "pAmPanKIwzhn",
        "colab": {
          "base_uri": "https://localhost:8080/"
        },
        "outputId": "2842239a-3544-4a0c-8adc-660c0cbd92bf"
      },
      "outputs": [
        {
          "output_type": "stream",
          "name": "stdout",
          "text": [
            "Epoch 1/10\n",
            "375/375 [==============================] - 5s 13ms/step - loss: 565.4165 - accuracy: 0.2731 - val_loss: 2.2639 - val_accuracy: 0.1653\n",
            "Epoch 2/10\n",
            "375/375 [==============================] - 5s 13ms/step - loss: 2.7173 - accuracy: 0.1839 - val_loss: 2.1806 - val_accuracy: 0.1790\n",
            "Epoch 3/10\n",
            "375/375 [==============================] - 4s 11ms/step - loss: 2.5210 - accuracy: 0.1745 - val_loss: 2.5377 - val_accuracy: 0.1877\n",
            "Epoch 4/10\n",
            "375/375 [==============================] - 4s 11ms/step - loss: 2.4470 - accuracy: 0.1784 - val_loss: 15.1100 - val_accuracy: 0.1838\n",
            "Epoch 5/10\n",
            "375/375 [==============================] - 5s 14ms/step - loss: 2.5940 - accuracy: 0.1938 - val_loss: 2.1863 - val_accuracy: 0.1797\n",
            "Epoch 6/10\n",
            "375/375 [==============================] - 4s 11ms/step - loss: 2.5197 - accuracy: 0.2006 - val_loss: 2.2041 - val_accuracy: 0.1837\n",
            "Epoch 7/10\n",
            "375/375 [==============================] - 4s 11ms/step - loss: 2.3807 - accuracy: 0.1982 - val_loss: 2.2887 - val_accuracy: 0.1972\n",
            "Epoch 8/10\n",
            "375/375 [==============================] - 5s 14ms/step - loss: 2.2447 - accuracy: 0.2041 - val_loss: 2.2368 - val_accuracy: 0.1911\n",
            "Epoch 9/10\n",
            "375/375 [==============================] - 4s 12ms/step - loss: 2.4202 - accuracy: 0.2045 - val_loss: 2.2222 - val_accuracy: 0.2015\n",
            "Epoch 10/10\n",
            "375/375 [==============================] - 4s 12ms/step - loss: 2.2925 - accuracy: 0.2057 - val_loss: 2.2887 - val_accuracy: 0.2006\n"
          ]
        },
        {
          "output_type": "execute_result",
          "data": {
            "text/plain": [
              "<keras.callbacks.History at 0x78f35f9bb130>"
            ]
          },
          "metadata": {},
          "execution_count": 6
        }
      ],
      "source": [
        "#경사소실이 발생할 수도 있다\n",
        "#다양한 방법이 있지만, learning rate를 조정함으로써 이를 방지할 수 있다\n",
        "(train_images, train_labels), _ = mnist.load_data()\n",
        "train_images = train_images.reshape((60000, 28 * 28))\n",
        "train_images = train_images.astype(\"float32\") / 255\n",
        "\n",
        "model = keras.Sequential([\n",
        "    layers.Dense(512, activation=\"relu\"),\n",
        "    layers.Dense(10, activation=\"softmax\")\n",
        "])\n",
        "model.compile(optimizer=keras.optimizers.RMSprop(1.),\n",
        "              loss=\"sparse_categorical_crossentropy\",\n",
        "              metrics=[\"accuracy\"])\n",
        "model.fit(train_images, train_labels,\n",
        "          epochs=10,\n",
        "          batch_size=128,\n",
        "          validation_split=0.2)"
      ]
    },
    {
      "cell_type": "markdown",
      "metadata": {
        "id": "odaoLTkBwzhn"
      },
      "source": [
        "**The same model with a more appropriate learning rate**"
      ]
    },
    {
      "cell_type": "code",
      "execution_count": null,
      "metadata": {
        "id": "oGioMnFIwzho",
        "colab": {
          "base_uri": "https://localhost:8080/"
        },
        "outputId": "ea532c3e-23b7-4349-a6fa-7e26083feada"
      },
      "outputs": [
        {
          "output_type": "stream",
          "name": "stdout",
          "text": [
            "Epoch 1/10\n",
            "375/375 [==============================] - 5s 11ms/step - loss: 0.3584 - accuracy: 0.9104 - val_loss: 0.1458 - val_accuracy: 0.9536\n",
            "Epoch 2/10\n",
            "375/375 [==============================] - 4s 11ms/step - loss: 0.1258 - accuracy: 0.9644 - val_loss: 0.1256 - val_accuracy: 0.9656\n",
            "Epoch 3/10\n",
            "375/375 [==============================] - 5s 14ms/step - loss: 0.1004 - accuracy: 0.9734 - val_loss: 0.1345 - val_accuracy: 0.9703\n",
            "Epoch 4/10\n",
            "375/375 [==============================] - 4s 11ms/step - loss: 0.0803 - accuracy: 0.9788 - val_loss: 0.1667 - val_accuracy: 0.9680\n",
            "Epoch 5/10\n",
            "375/375 [==============================] - 4s 12ms/step - loss: 0.0716 - accuracy: 0.9822 - val_loss: 0.2005 - val_accuracy: 0.9633\n",
            "Epoch 6/10\n",
            "375/375 [==============================] - 5s 14ms/step - loss: 0.0614 - accuracy: 0.9852 - val_loss: 0.1832 - val_accuracy: 0.9711\n",
            "Epoch 7/10\n",
            "375/375 [==============================] - 4s 11ms/step - loss: 0.0522 - accuracy: 0.9873 - val_loss: 0.1981 - val_accuracy: 0.9738\n",
            "Epoch 8/10\n",
            "375/375 [==============================] - 4s 12ms/step - loss: 0.0484 - accuracy: 0.9888 - val_loss: 0.2117 - val_accuracy: 0.9727\n",
            "Epoch 9/10\n",
            "375/375 [==============================] - 5s 15ms/step - loss: 0.0395 - accuracy: 0.9904 - val_loss: 0.2208 - val_accuracy: 0.9718\n",
            "Epoch 10/10\n",
            "375/375 [==============================] - 4s 12ms/step - loss: 0.0380 - accuracy: 0.9906 - val_loss: 0.2465 - val_accuracy: 0.9717\n"
          ]
        },
        {
          "output_type": "execute_result",
          "data": {
            "text/plain": [
              "<keras.callbacks.History at 0x78f35f0cab30>"
            ]
          },
          "metadata": {},
          "execution_count": 7
        }
      ],
      "source": [
        "model = keras.Sequential([\n",
        "    layers.Dense(512, activation=\"relu\"),\n",
        "    layers.Dense(10, activation=\"softmax\")\n",
        "])\n",
        "model.compile(optimizer=keras.optimizers.RMSprop(1e-2),\n",
        "              loss=\"sparse_categorical_crossentropy\",\n",
        "              metrics=[\"accuracy\"])\n",
        "model.fit(train_images, train_labels,\n",
        "          epochs=10,\n",
        "          batch_size=128,\n",
        "          validation_split=0.2)\n",
        "#optimizer인 RMSprop()의 인자로 learning rate를 준다"
      ]
    },
    {
      "cell_type": "markdown",
      "metadata": {
        "id": "y9hIMs2dwzho"
      },
      "source": [
        "### Leveraging better architecture priors"
      ]
    },
    {
      "cell_type": "markdown",
      "metadata": {
        "id": "XoG6z_Hgwzho"
      },
      "source": [
        "### Increasing model capacity"
      ]
    },
    {
      "cell_type": "markdown",
      "metadata": {
        "id": "wr5wLHIrwzhp"
      },
      "source": [
        "**A simple logistic regression on MNIST**"
      ]
    },
    {
      "cell_type": "code",
      "execution_count": null,
      "metadata": {
        "id": "UtIbHzndwzhp",
        "colab": {
          "base_uri": "https://localhost:8080/"
        },
        "outputId": "ebc2c2e3-01db-4c87-a0af-bd93bd6f2512"
      },
      "outputs": [
        {
          "output_type": "stream",
          "name": "stdout",
          "text": [
            "Epoch 1/20\n",
            "375/375 [==============================] - 2s 4ms/step - loss: 0.6628 - accuracy: 0.8374 - val_loss: 0.3590 - val_accuracy: 0.9044\n",
            "Epoch 2/20\n",
            "375/375 [==============================] - 2s 4ms/step - loss: 0.3532 - accuracy: 0.9028 - val_loss: 0.3125 - val_accuracy: 0.9117\n",
            "Epoch 3/20\n",
            "375/375 [==============================] - 2s 5ms/step - loss: 0.3183 - accuracy: 0.9109 - val_loss: 0.2934 - val_accuracy: 0.9172\n",
            "Epoch 4/20\n",
            "375/375 [==============================] - 1s 3ms/step - loss: 0.3021 - accuracy: 0.9153 - val_loss: 0.2833 - val_accuracy: 0.9232\n",
            "Epoch 5/20\n",
            "375/375 [==============================] - 1s 3ms/step - loss: 0.2926 - accuracy: 0.9187 - val_loss: 0.2786 - val_accuracy: 0.9229\n",
            "Epoch 6/20\n",
            "375/375 [==============================] - 1s 3ms/step - loss: 0.2861 - accuracy: 0.9206 - val_loss: 0.2739 - val_accuracy: 0.9248\n",
            "Epoch 7/20\n",
            "375/375 [==============================] - 1s 3ms/step - loss: 0.2807 - accuracy: 0.9218 - val_loss: 0.2721 - val_accuracy: 0.9258\n",
            "Epoch 8/20\n",
            "375/375 [==============================] - 1s 3ms/step - loss: 0.2771 - accuracy: 0.9231 - val_loss: 0.2708 - val_accuracy: 0.9270\n",
            "Epoch 9/20\n",
            "375/375 [==============================] - 1s 3ms/step - loss: 0.2734 - accuracy: 0.9245 - val_loss: 0.2690 - val_accuracy: 0.9268\n",
            "Epoch 10/20\n",
            "375/375 [==============================] - 2s 4ms/step - loss: 0.2708 - accuracy: 0.9248 - val_loss: 0.2667 - val_accuracy: 0.9278\n",
            "Epoch 11/20\n",
            "375/375 [==============================] - 1s 4ms/step - loss: 0.2686 - accuracy: 0.9255 - val_loss: 0.2681 - val_accuracy: 0.9270\n",
            "Epoch 12/20\n",
            "375/375 [==============================] - 2s 5ms/step - loss: 0.2668 - accuracy: 0.9264 - val_loss: 0.2661 - val_accuracy: 0.9289\n",
            "Epoch 13/20\n",
            "375/375 [==============================] - 1s 3ms/step - loss: 0.2650 - accuracy: 0.9268 - val_loss: 0.2636 - val_accuracy: 0.9285\n",
            "Epoch 14/20\n",
            "375/375 [==============================] - 1s 3ms/step - loss: 0.2633 - accuracy: 0.9272 - val_loss: 0.2654 - val_accuracy: 0.9291\n",
            "Epoch 15/20\n",
            "375/375 [==============================] - 1s 3ms/step - loss: 0.2620 - accuracy: 0.9282 - val_loss: 0.2626 - val_accuracy: 0.9288\n",
            "Epoch 16/20\n",
            "375/375 [==============================] - 1s 4ms/step - loss: 0.2605 - accuracy: 0.9283 - val_loss: 0.2619 - val_accuracy: 0.9304\n",
            "Epoch 17/20\n",
            "375/375 [==============================] - 1s 3ms/step - loss: 0.2595 - accuracy: 0.9290 - val_loss: 0.2635 - val_accuracy: 0.9295\n",
            "Epoch 18/20\n",
            "375/375 [==============================] - 1s 3ms/step - loss: 0.2581 - accuracy: 0.9289 - val_loss: 0.2637 - val_accuracy: 0.9287\n",
            "Epoch 19/20\n",
            "375/375 [==============================] - 1s 3ms/step - loss: 0.2572 - accuracy: 0.9295 - val_loss: 0.2623 - val_accuracy: 0.9298\n",
            "Epoch 20/20\n",
            "375/375 [==============================] - 1s 3ms/step - loss: 0.2565 - accuracy: 0.9298 - val_loss: 0.2620 - val_accuracy: 0.9302\n"
          ]
        }
      ],
      "source": [
        "#내가 해결하고자 하는 task에 맞는 적잘한 딥러닝 model을 사용\n",
        "model = keras.Sequential([layers.Dense(10, activation=\"softmax\")])\n",
        "model.compile(optimizer=\"rmsprop\",\n",
        "              loss=\"sparse_categorical_crossentropy\",\n",
        "              metrics=[\"accuracy\"])\n",
        "history_small_model = model.fit(\n",
        "    train_images, train_labels,\n",
        "    epochs=20,\n",
        "    batch_size=128,\n",
        "    validation_split=0.2)"
      ]
    },
    {
      "cell_type": "code",
      "execution_count": null,
      "metadata": {
        "id": "M4uwsnTqwzhp",
        "colab": {
          "base_uri": "https://localhost:8080/",
          "height": 307
        },
        "outputId": "ac26044b-bba5-41e6-d27c-d92168a821e7"
      },
      "outputs": [
        {
          "output_type": "execute_result",
          "data": {
            "text/plain": [
              "<matplotlib.legend.Legend at 0x78f360c6b730>"
            ]
          },
          "metadata": {},
          "execution_count": 9
        },
        {
          "output_type": "display_data",
          "data": {
            "text/plain": [
              "<Figure size 640x480 with 1 Axes>"
            ],
            "image/png": "[encoded data removed]"
          },
          "metadata": {}
        }
      ],
      "source": [
        "import matplotlib.pyplot as plt\n",
        "val_loss = history_small_model.history[\"val_loss\"]\n",
        "epochs = range(1, 21)\n",
        "plt.plot(epochs, val_loss, \"b--\",\n",
        "         label=\"Validation loss\")\n",
        "plt.title(\"Effect of insufficient model capacity on validation loss\")\n",
        "plt.xlabel(\"Epochs\")\n",
        "plt.ylabel(\"Loss\")\n",
        "plt.legend()"
      ]
    },
    {
      "cell_type": "code",
      "execution_count": null,
      "metadata": {
        "id": "mdHi7eUUwzhq",
        "colab": {
          "base_uri": "https://localhost:8080/"
        },
        "outputId": "aa340866-a7ff-4e65-a3d3-5c84e3afcb35"
      },
      "outputs": [
        {
          "output_type": "stream",
          "name": "stdout",
          "text": [
            "Epoch 1/20\n",
            "375/375 [==============================] - 4s 8ms/step - loss: 0.3681 - accuracy: 0.8941 - val_loss: 0.1822 - val_accuracy: 0.9486\n",
            "Epoch 2/20\n",
            "375/375 [==============================] - 2s 5ms/step - loss: 0.1677 - accuracy: 0.9501 - val_loss: 0.1421 - val_accuracy: 0.9567\n",
            "Epoch 3/20\n",
            "375/375 [==============================] - 2s 5ms/step - loss: 0.1201 - accuracy: 0.9635 - val_loss: 0.1161 - val_accuracy: 0.9650\n",
            "Epoch 4/20\n",
            "375/375 [==============================] - 2s 6ms/step - loss: 0.0918 - accuracy: 0.9731 - val_loss: 0.1056 - val_accuracy: 0.9695\n",
            "Epoch 5/20\n",
            "375/375 [==============================] - 2s 6ms/step - loss: 0.0723 - accuracy: 0.9778 - val_loss: 0.0989 - val_accuracy: 0.9697\n",
            "Epoch 6/20\n",
            "375/375 [==============================] - 3s 8ms/step - loss: 0.0585 - accuracy: 0.9823 - val_loss: 0.0932 - val_accuracy: 0.9711\n",
            "Epoch 7/20\n",
            "375/375 [==============================] - 2s 5ms/step - loss: 0.0491 - accuracy: 0.9849 - val_loss: 0.0938 - val_accuracy: 0.9733\n",
            "Epoch 8/20\n",
            "375/375 [==============================] - 2s 5ms/step - loss: 0.0412 - accuracy: 0.9871 - val_loss: 0.0914 - val_accuracy: 0.9738\n",
            "Epoch 9/20\n",
            "375/375 [==============================] - 2s 6ms/step - loss: 0.0352 - accuracy: 0.9888 - val_loss: 0.0923 - val_accuracy: 0.9741\n",
            "Epoch 10/20\n",
            "375/375 [==============================] - 2s 5ms/step - loss: 0.0286 - accuracy: 0.9909 - val_loss: 0.0974 - val_accuracy: 0.9747\n",
            "Epoch 11/20\n",
            "375/375 [==============================] - 2s 5ms/step - loss: 0.0249 - accuracy: 0.9925 - val_loss: 0.0892 - val_accuracy: 0.9764\n",
            "Epoch 12/20\n",
            "375/375 [==============================] - 3s 8ms/step - loss: 0.0214 - accuracy: 0.9934 - val_loss: 0.1012 - val_accuracy: 0.9753\n",
            "Epoch 13/20\n",
            "375/375 [==============================] - 2s 5ms/step - loss: 0.0176 - accuracy: 0.9947 - val_loss: 0.1045 - val_accuracy: 0.9737\n",
            "Epoch 14/20\n",
            "375/375 [==============================] - 2s 5ms/step - loss: 0.0151 - accuracy: 0.9957 - val_loss: 0.1233 - val_accuracy: 0.9697\n",
            "Epoch 15/20\n",
            "370/375 [============================>.] - ETA: 0s - loss: 0.0130 - accuracy: 0.9959"
          ]
        }
      ],
      "source": [
        "model = keras.Sequential([\n",
        "    layers.Dense(96, activation=\"relu\"),\n",
        "    layers.Dense(96, activation=\"relu\"),\n",
        "    layers.Dense(10, activation=\"softmax\"),\n",
        "])\n",
        "model.compile(optimizer=\"rmsprop\",\n",
        "              loss=\"sparse_categorical_crossentropy\",\n",
        "              metrics=[\"accuracy\"])\n",
        "history_large_model = model.fit(\n",
        "    train_images, train_labels,\n",
        "    epochs=20,\n",
        "    batch_size=128,\n",
        "    validation_split=0.2)"
      ]
    },
    {
      "cell_type": "markdown",
      "metadata": {
        "id": "gO7Ru3mwwzhy"
      },
      "source": [
        "## Improving generalization"
      ]
    },
    {
      "cell_type": "markdown",
      "metadata": {
        "id": "9fhbruW-wzhy"
      },
      "source": [
        "### Dataset curation"
      ]
    },
    {
      "cell_type": "markdown",
      "metadata": {
        "id": "qsboS5V-wzhz"
      },
      "source": [
        "### Feature engineering"
      ]
    },
    {
      "cell_type": "markdown",
      "metadata": {
        "id": "zBwincQ3wzhz"
      },
      "source": [
        "### Using early stopping"
      ]
    },
    {
      "cell_type": "markdown",
      "metadata": {
        "id": "KeiHQOWpwzhz"
      },
      "source": [
        "### Regularizing your model"
      ]
    },
    {
      "cell_type": "markdown",
      "metadata": {
        "id": "mv0uRl8cwzh0"
      },
      "source": [
        "#### Reducing the network's size"
      ]
    },
    {
      "cell_type": "markdown",
      "metadata": {
        "id": "zXWAjB6kwzh0"
      },
      "source": [
        "**Original model**"
      ]
    },
    {
      "cell_type": "code",
      "execution_count": null,
      "metadata": {
        "id": "Bg8ZGNUcwzh1",
        "colab": {
          "base_uri": "https://localhost:8080/"
        },
        "outputId": "f5fb0da3-3454-4379-f4b6-27c41fb0eed0"
      },
      "outputs": [
        {
          "output_type": "stream",
          "name": "stdout",
          "text": [
            "Downloading data from https://storage.googleapis.com/tensorflow/tf-keras-datasets/imdb.npz\n",
            "17464789/17464789 [==============================] - 0s 0us/step\n",
            "Epoch 1/20\n",
            "30/30 [==============================] - 3s 84ms/step - loss: 0.5143 - accuracy: 0.7629 - val_loss: 0.3700 - val_accuracy: 0.8732\n",
            "Epoch 2/20\n",
            "30/30 [==============================] - 1s 50ms/step - loss: 0.3062 - accuracy: 0.8935 - val_loss: 0.3077 - val_accuracy: 0.8823\n",
            "Epoch 3/20\n",
            "30/30 [==============================] - 2s 66ms/step - loss: 0.2303 - accuracy: 0.9208 - val_loss: 0.2822 - val_accuracy: 0.8870\n",
            "Epoch 4/20\n",
            "30/30 [==============================] - 1s 45ms/step - loss: 0.1845 - accuracy: 0.9377 - val_loss: 0.2846 - val_accuracy: 0.8843\n",
            "Epoch 5/20\n",
            "30/30 [==============================] - 2s 52ms/step - loss: 0.1525 - accuracy: 0.9499 - val_loss: 0.2804 - val_accuracy: 0.8871\n",
            "Epoch 6/20\n",
            "30/30 [==============================] - 1s 45ms/step - loss: 0.1306 - accuracy: 0.9585 - val_loss: 0.2884 - val_accuracy: 0.8856\n",
            "Epoch 7/20\n",
            "30/30 [==============================] - 1s 40ms/step - loss: 0.1117 - accuracy: 0.9655 - val_loss: 0.3507 - val_accuracy: 0.8727\n",
            "Epoch 8/20\n",
            "30/30 [==============================] - 1s 51ms/step - loss: 0.0948 - accuracy: 0.9716 - val_loss: 0.3214 - val_accuracy: 0.8828\n",
            "Epoch 9/20\n",
            "30/30 [==============================] - 1s 42ms/step - loss: 0.0796 - accuracy: 0.9775 - val_loss: 0.3437 - val_accuracy: 0.8797\n",
            "Epoch 10/20\n",
            "30/30 [==============================] - 1s 41ms/step - loss: 0.0704 - accuracy: 0.9813 - val_loss: 0.3729 - val_accuracy: 0.8745\n",
            "Epoch 11/20\n",
            "30/30 [==============================] - 2s 59ms/step - loss: 0.0600 - accuracy: 0.9854 - val_loss: 0.3778 - val_accuracy: 0.8771\n",
            "Epoch 12/20\n",
            "30/30 [==============================] - 2s 67ms/step - loss: 0.0530 - accuracy: 0.9859 - val_loss: 0.4013 - val_accuracy: 0.8759\n",
            "Epoch 13/20\n",
            "30/30 [==============================] - 2s 53ms/step - loss: 0.0444 - accuracy: 0.9892 - val_loss: 0.4203 - val_accuracy: 0.8749\n",
            "Epoch 14/20\n",
            "30/30 [==============================] - 1s 40ms/step - loss: 0.0373 - accuracy: 0.9909 - val_loss: 0.4412 - val_accuracy: 0.8744\n",
            "Epoch 15/20\n",
            "30/30 [==============================] - 1s 41ms/step - loss: 0.0291 - accuracy: 0.9945 - val_loss: 0.4686 - val_accuracy: 0.8712\n",
            "Epoch 16/20\n",
            "30/30 [==============================] - 2s 55ms/step - loss: 0.0253 - accuracy: 0.9963 - val_loss: 0.4945 - val_accuracy: 0.8732\n",
            "Epoch 17/20\n",
            "30/30 [==============================] - 1s 40ms/step - loss: 0.0254 - accuracy: 0.9944 - val_loss: 0.5152 - val_accuracy: 0.8715\n",
            "Epoch 18/20\n",
            "30/30 [==============================] - 1s 40ms/step - loss: 0.0221 - accuracy: 0.9951 - val_loss: 0.5371 - val_accuracy: 0.8701\n",
            "Epoch 19/20\n",
            "30/30 [==============================] - 1s 41ms/step - loss: 0.0116 - accuracy: 0.9989 - val_loss: 0.5814 - val_accuracy: 0.8683\n",
            "Epoch 20/20\n",
            "30/30 [==============================] - 2s 52ms/step - loss: 0.0161 - accuracy: 0.9978 - val_loss: 0.5813 - val_accuracy: 0.8693\n"
          ]
        }
      ],
      "source": [
        "from tensorflow.keras.datasets import imdb\n",
        "(train_data, train_labels), _ = imdb.load_data(num_words=10000)\n",
        "\n",
        "def vectorize_sequences(sequences, dimension=10000):\n",
        "    results = np.zeros((len(sequences), dimension))\n",
        "    for i, sequence in enumerate(sequences):\n",
        "        results[i, sequence] = 1.\n",
        "    return results\n",
        "train_data = vectorize_sequences(train_data)\n",
        "\n",
        "model = keras.Sequential([\n",
        "    layers.Dense(16, activation=\"relu\"),\n",
        "    layers.Dense(16, activation=\"relu\"),\n",
        "    layers.Dense(1, activation=\"sigmoid\")\n",
        "])\n",
        "model.compile(optimizer=\"rmsprop\",\n",
        "              loss=\"binary_crossentropy\",\n",
        "              metrics=[\"accuracy\"])\n",
        "history_original = model.fit(train_data, train_labels,\n",
        "                             epochs=20, batch_size=512, validation_split=0.4)"
      ]
    },
    {
      "cell_type": "markdown",
      "metadata": {
        "id": "xn8SX2p2wzh1"
      },
      "source": [
        "**Version of the model with lower capacity**"
      ]
    },
    {
      "cell_type": "code",
      "execution_count": null,
      "metadata": {
        "id": "8MDGMw4mwzh2",
        "colab": {
          "base_uri": "https://localhost:8080/"
        },
        "outputId": "2d4311c4-dfd5-4a9f-f597-82b255e9af7b"
      },
      "outputs": [
        {
          "output_type": "stream",
          "name": "stdout",
          "text": [
            "Epoch 1/20\n",
            "30/30 [==============================] - 3s 65ms/step - loss: 0.6339 - accuracy: 0.6913 - val_loss: 0.5883 - val_accuracy: 0.8409\n",
            "Epoch 2/20\n",
            "30/30 [==============================] - 1s 39ms/step - loss: 0.5454 - accuracy: 0.8080 - val_loss: 0.5379 - val_accuracy: 0.7888\n",
            "Epoch 3/20\n",
            "30/30 [==============================] - 1s 39ms/step - loss: 0.4988 - accuracy: 0.8480 - val_loss: 0.5091 - val_accuracy: 0.8402\n",
            "Epoch 4/20\n",
            "30/30 [==============================] - 1s 35ms/step - loss: 0.4653 - accuracy: 0.8759 - val_loss: 0.4908 - val_accuracy: 0.8483\n",
            "Epoch 5/20\n",
            "30/30 [==============================] - 1s 37ms/step - loss: 0.4404 - accuracy: 0.8959 - val_loss: 0.4774 - val_accuracy: 0.8750\n",
            "Epoch 6/20\n",
            "30/30 [==============================] - 1s 36ms/step - loss: 0.4188 - accuracy: 0.9118 - val_loss: 0.4830 - val_accuracy: 0.8308\n",
            "Epoch 7/20\n",
            "30/30 [==============================] - 1s 38ms/step - loss: 0.4014 - accuracy: 0.9205 - val_loss: 0.4606 - val_accuracy: 0.8651\n",
            "Epoch 8/20\n",
            "30/30 [==============================] - 1s 37ms/step - loss: 0.3844 - accuracy: 0.9326 - val_loss: 0.4536 - val_accuracy: 0.8723\n",
            "Epoch 9/20\n",
            "30/30 [==============================] - 1s 45ms/step - loss: 0.3702 - accuracy: 0.9383 - val_loss: 0.4459 - val_accuracy: 0.8806\n",
            "Epoch 10/20\n",
            "30/30 [==============================] - 2s 62ms/step - loss: 0.3564 - accuracy: 0.9476 - val_loss: 0.4770 - val_accuracy: 0.8420\n",
            "Epoch 11/20\n",
            "30/30 [==============================] - 1s 47ms/step - loss: 0.3441 - accuracy: 0.9530 - val_loss: 0.4447 - val_accuracy: 0.8713\n",
            "Epoch 12/20\n",
            "30/30 [==============================] - 1s 38ms/step - loss: 0.3323 - accuracy: 0.9579 - val_loss: 0.4447 - val_accuracy: 0.8708\n",
            "Epoch 13/20\n",
            "30/30 [==============================] - 1s 37ms/step - loss: 0.3218 - accuracy: 0.9627 - val_loss: 0.4529 - val_accuracy: 0.8635\n",
            "Epoch 14/20\n",
            "30/30 [==============================] - 1s 37ms/step - loss: 0.3110 - accuracy: 0.9659 - val_loss: 0.4329 - val_accuracy: 0.8770\n",
            "Epoch 15/20\n",
            "30/30 [==============================] - 1s 38ms/step - loss: 0.3014 - accuracy: 0.9701 - val_loss: 0.4570 - val_accuracy: 0.8625\n",
            "Epoch 16/20\n",
            "30/30 [==============================] - 1s 39ms/step - loss: 0.2921 - accuracy: 0.9735 - val_loss: 0.4449 - val_accuracy: 0.8716\n",
            "Epoch 17/20\n",
            "30/30 [==============================] - 1s 37ms/step - loss: 0.2833 - accuracy: 0.9753 - val_loss: 0.4490 - val_accuracy: 0.8691\n",
            "Epoch 18/20\n",
            "30/30 [==============================] - 1s 39ms/step - loss: 0.2744 - accuracy: 0.9777 - val_loss: 0.4337 - val_accuracy: 0.8750\n",
            "Epoch 19/20\n",
            "30/30 [==============================] - 2s 53ms/step - loss: 0.2657 - accuracy: 0.9803 - val_loss: 0.4532 - val_accuracy: 0.8682\n",
            "Epoch 20/20\n",
            "30/30 [==============================] - 2s 59ms/step - loss: 0.2587 - accuracy: 0.9815 - val_loss: 0.4498 - val_accuracy: 0.8695\n"
          ]
        }
      ],
      "source": [
        "model = keras.Sequential([\n",
        "    layers.Dense(4, activation=\"relu\"),\n",
        "    layers.Dense(4, activation=\"relu\"),\n",
        "    layers.Dense(1, activation=\"sigmoid\")\n",
        "])\n",
        "model.compile(optimizer=\"rmsprop\",\n",
        "              loss=\"binary_crossentropy\",\n",
        "              metrics=[\"accuracy\"])\n",
        "history_smaller_model = model.fit(\n",
        "    train_data, train_labels,\n",
        "    epochs=20, batch_size=512, validation_split=0.4)"
      ]
    },
    {
      "cell_type": "markdown",
      "metadata": {
        "id": "g1lzV4Jnwzh2"
      },
      "source": [
        "**Version of the model with higher capacity**"
      ]
    },
    {
      "cell_type": "code",
      "execution_count": null,
      "metadata": {
        "id": "-BGazSOCwzh2"
      },
      "outputs": [],
      "source": [
        "model = keras.Sequential([\n",
        "    layers.Dense(512, activation=\"relu\"),\n",
        "    layers.Dense(512, activation=\"relu\"),\n",
        "    layers.Dense(1, activation=\"sigmoid\")\n",
        "])\n",
        "model.compile(optimizer=\"rmsprop\",\n",
        "              loss=\"binary_crossentropy\",\n",
        "              metrics=[\"accuracy\"])\n",
        "history_larger_model = model.fit(\n",
        "    train_data, train_labels,\n",
        "    epochs=20, batch_size=512, validation_split=0.4)"
      ]
    },
    {
      "cell_type": "markdown",
      "metadata": {
        "id": "q8IsSkc7wzh2"
      },
      "source": [
        "#### Adding weight regularization"
      ]
    },
    {
      "cell_type": "markdown",
      "metadata": {
        "id": "GhKmhpz6wzh3"
      },
      "source": [
        "**Adding L2 weight regularization to the model**"
      ]
    },
    {
      "cell_type": "code",
      "execution_count": null,
      "metadata": {
        "id": "jGwMWNMCwzh3",
        "colab": {
          "base_uri": "https://localhost:8080/"
        },
        "outputId": "1d960477-6960-4ff0-aa92-0e9964924058"
      },
      "outputs": [
        {
          "output_type": "stream",
          "name": "stdout",
          "text": [
            "Epoch 1/20\n",
            "30/30 [==============================] - 3s 89ms/step - loss: 0.5901 - accuracy: 0.7811 - val_loss: 0.4824 - val_accuracy: 0.8324\n",
            "Epoch 2/20\n",
            "30/30 [==============================] - 1s 40ms/step - loss: 0.3896 - accuracy: 0.8951 - val_loss: 0.3845 - val_accuracy: 0.8857\n",
            "Epoch 3/20\n",
            "30/30 [==============================] - 1s 41ms/step - loss: 0.3201 - accuracy: 0.9173 - val_loss: 0.3943 - val_accuracy: 0.8689\n",
            "Epoch 4/20\n",
            "30/30 [==============================] - 1s 40ms/step - loss: 0.2869 - accuracy: 0.9309 - val_loss: 0.3774 - val_accuracy: 0.8775\n",
            "Epoch 5/20\n",
            "30/30 [==============================] - 1s 42ms/step - loss: 0.2664 - accuracy: 0.9340 - val_loss: 0.3594 - val_accuracy: 0.8874\n",
            "Epoch 6/20\n",
            "30/30 [==============================] - 1s 41ms/step - loss: 0.2549 - accuracy: 0.9397 - val_loss: 0.3741 - val_accuracy: 0.8821\n",
            "Epoch 7/20\n",
            "30/30 [==============================] - 1s 42ms/step - loss: 0.2401 - accuracy: 0.9472 - val_loss: 0.3639 - val_accuracy: 0.8862\n",
            "Epoch 8/20\n",
            "30/30 [==============================] - 1s 42ms/step - loss: 0.2287 - accuracy: 0.9531 - val_loss: 0.4222 - val_accuracy: 0.8661\n",
            "Epoch 9/20\n",
            "30/30 [==============================] - 2s 52ms/step - loss: 0.2292 - accuracy: 0.9505 - val_loss: 0.3764 - val_accuracy: 0.8813\n",
            "Epoch 10/20\n",
            "30/30 [==============================] - 2s 57ms/step - loss: 0.2192 - accuracy: 0.9547 - val_loss: 0.4435 - val_accuracy: 0.8639\n",
            "Epoch 11/20\n",
            "30/30 [==============================] - 1s 43ms/step - loss: 0.2172 - accuracy: 0.9549 - val_loss: 0.3984 - val_accuracy: 0.8760\n",
            "Epoch 12/20\n",
            "30/30 [==============================] - 2s 58ms/step - loss: 0.2146 - accuracy: 0.9546 - val_loss: 0.4002 - val_accuracy: 0.8737\n",
            "Epoch 13/20\n",
            "30/30 [==============================] - 1s 46ms/step - loss: 0.2065 - accuracy: 0.9603 - val_loss: 0.4143 - val_accuracy: 0.8748\n",
            "Epoch 14/20\n",
            "30/30 [==============================] - 1s 41ms/step - loss: 0.2076 - accuracy: 0.9582 - val_loss: 0.4092 - val_accuracy: 0.8755\n",
            "Epoch 15/20\n",
            "30/30 [==============================] - 1s 41ms/step - loss: 0.1997 - accuracy: 0.9614 - val_loss: 0.4077 - val_accuracy: 0.8779\n",
            "Epoch 16/20\n",
            "30/30 [==============================] - 1s 38ms/step - loss: 0.1960 - accuracy: 0.9633 - val_loss: 0.4122 - val_accuracy: 0.8768\n",
            "Epoch 17/20\n",
            "30/30 [==============================] - 1s 40ms/step - loss: 0.1992 - accuracy: 0.9593 - val_loss: 0.4203 - val_accuracy: 0.8764\n",
            "Epoch 18/20\n",
            "30/30 [==============================] - 2s 52ms/step - loss: 0.1937 - accuracy: 0.9621 - val_loss: 0.4167 - val_accuracy: 0.8765\n",
            "Epoch 19/20\n",
            "30/30 [==============================] - 2s 61ms/step - loss: 0.1907 - accuracy: 0.9651 - val_loss: 0.4391 - val_accuracy: 0.8727\n",
            "Epoch 20/20\n",
            "30/30 [==============================] - 1s 40ms/step - loss: 0.1903 - accuracy: 0.9639 - val_loss: 0.4841 - val_accuracy: 0.8617\n"
          ]
        }
      ],
      "source": [
        "from tensorflow.keras import regularizers\n",
        "model = keras.Sequential([\n",
        "    layers.Dense(16,\n",
        "                 kernel_regularizer=regularizers.l2(0.002),\n",
        "                 activation=\"relu\"),\n",
        "    layers.Dense(16,\n",
        "                 kernel_regularizer=regularizers.l2(0.002),\n",
        "                 activation=\"relu\"),\n",
        "    layers.Dense(1, activation=\"sigmoid\")\n",
        "])\n",
        "model.compile(optimizer=\"rmsprop\",\n",
        "              loss=\"binary_crossentropy\",\n",
        "              metrics=[\"accuracy\"])\n",
        "history_l2_reg = model.fit(\n",
        "    train_data, train_labels,\n",
        "    epochs=20, batch_size=512, validation_split=0.4)"
      ]
    },
    {
      "cell_type": "markdown",
      "metadata": {
        "id": "4PPXqZDmwzh3"
      },
      "source": [
        "**Different weight regularizers available in Keras**"
      ]
    },
    {
      "cell_type": "code",
      "execution_count": null,
      "metadata": {
        "id": "2vdHrjZHwzh3"
      },
      "outputs": [],
      "source": [
        "from tensorflow.keras import regularizers\n",
        "regularizers.l1(0.001)\n",
        "regularizers.l1_l2(l1=0.001, l2=0.001)"
      ]
    },
    {
      "cell_type": "markdown",
      "metadata": {
        "id": "U8FeaoTJwzh4"
      },
      "source": [
        "#### Adding dropout"
      ]
    },
    {
      "cell_type": "markdown",
      "metadata": {
        "id": "CCtJbpGFwzh4"
      },
      "source": [
        "**Adding dropout to the IMDB model**"
      ]
    },
    {
      "cell_type": "code",
      "execution_count": null,
      "metadata": {
        "id": "qcDEqgpFwzh4",
        "colab": {
          "base_uri": "https://localhost:8080/"
        },
        "outputId": "6195b808-24f0-4238-f6af-66b4843057b2"
      },
      "outputs": [
        {
          "metadata": {
            "tags": null
          },
          "name": "stdout",
          "output_type": "stream",
          "text": [
            "Epoch 1/20\n",
            "30/30 [==============================] - 3s 62ms/step - loss: 0.6319 - accuracy: 0.6423 - val_loss: 0.5162 - val_accuracy: 0.8419\n",
            "Epoch 2/20\n",
            "30/30 [==============================] - 1s 40ms/step - loss: 0.5132 - accuracy: 0.7784 - val_loss: 0.4125 - val_accuracy: 0.8745\n",
            "Epoch 3/20\n",
            "30/30 [==============================] - 1s 41ms/step - loss: 0.4302 - accuracy: 0.8265 - val_loss: 0.3493 - val_accuracy: 0.8805\n",
            "Epoch 4/20\n",
            "30/30 [==============================] - 1s 42ms/step - loss: 0.3689 - accuracy: 0.8651 - val_loss: 0.3209 - val_accuracy: 0.8828\n",
            "Epoch 5/20\n",
            "30/30 [==============================] - 2s 56ms/step - loss: 0.3259 - accuracy: 0.8823 - val_loss: 0.2896 - val_accuracy: 0.8896\n",
            "Epoch 6/20\n",
            "30/30 [==============================] - 1s 42ms/step - loss: 0.2899 - accuracy: 0.8991 - val_loss: 0.2886 - val_accuracy: 0.8899\n",
            "Epoch 7/20\n",
            "30/30 [==============================] - 1s 41ms/step - loss: 0.2573 - accuracy: 0.9125 - val_loss: 0.2795 - val_accuracy: 0.8917\n",
            "Epoch 8/20\n",
            "30/30 [==============================] - 1s 40ms/step - loss: 0.2347 - accuracy: 0.9201 - val_loss: 0.2903 - val_accuracy: 0.8900\n",
            "Epoch 9/20\n",
            "30/30 [==============================] - 1s 41ms/step - loss: 0.2086 - accuracy: 0.9344 - val_loss: 0.2962 - val_accuracy: 0.8890\n",
            "Epoch 10/20\n",
            "30/30 [==============================] - 1s 39ms/step - loss: 0.1917 - accuracy: 0.9376 - val_loss: 0.3072 - val_accuracy: 0.8917\n",
            "Epoch 11/20\n",
            "30/30 [==============================] - 1s 39ms/step - loss: 0.1795 - accuracy: 0.9423 - val_loss: 0.3217 - val_accuracy: 0.8900\n",
            "Epoch 12/20\n",
            "30/30 [==============================] - 1s 39ms/step - loss: 0.1571 - accuracy: 0.9492 - val_loss: 0.3380 - val_accuracy: 0.8892\n",
            "Epoch 13/20\n",
            "30/30 [==============================] - 1s 40ms/step - loss: 0.1495 - accuracy: 0.9529 - val_loss: 0.3591 - val_accuracy: 0.8874\n",
            "Epoch 14/20\n",
            "30/30 [==============================] - 1s 44ms/step - loss: 0.1387 - accuracy: 0.9565 - val_loss: 0.3900 - val_accuracy: 0.8870\n",
            "Epoch 15/20\n",
            "30/30 [==============================] - 2s 63ms/step - loss: 0.1297 - accuracy: 0.9570 - val_loss: 0.3890 - val_accuracy: 0.8793\n",
            "Epoch 16/20\n",
            "30/30 [==============================] - 1s 40ms/step - loss: 0.1224 - accuracy: 0.9579 - val_loss: 0.4376 - val_accuracy: 0.8861\n",
            "Epoch 17/20\n",
            "30/30 [==============================] - 1s 39ms/step - loss: 0.1169 - accuracy: 0.9640 - val_loss: 0.4298 - val_accuracy: 0.8851\n",
            "Epoch 18/20\n",
            "30/30 [==============================] - 1s 39ms/step - loss: 0.1081 - accuracy: 0.9646 - val_loss: 0.4535 - val_accuracy: 0.8844\n",
            "Epoch 19/20\n",
            "30/30 [==============================] - 1s 39ms/step - loss: 0.1008 - accuracy: 0.9673 - val_loss: 0.4789 - val_accuracy: 0.8850\n",
            "Epoch 20/20\n",
            "30/30 [==============================] - 1s 40ms/step - loss: 0.1003 - accuracy: 0.9663 - val_loss: 0.4942 - val_accuracy: 0.8843\n"
          ]
        }
      ],
      "source": [
        "model = keras.Sequential([\n",
        "    layers.Dense(16, activation=\"relu\"),\n",
        "    layers.Dropout(0.5),\n",
        "    layers.Dense(16, activation=\"relu\"),\n",
        "    layers.Dropout(0.5),\n",
        "    layers.Dense(1, activation=\"sigmoid\")\n",
        "])\n",
        "model.compile(optimizer=\"rmsprop\",\n",
        "              loss=\"binary_crossentropy\",\n",
        "              metrics=[\"accuracy\"])\n",
        "history_dropout = model.fit(\n",
        "    train_data, train_labels,\n",
        "    epochs=20, batch_size=512, validation_split=0.4)"
      ]
    },
    {
      "cell_type": "markdown",
      "metadata": {
        "id": "Or7CiqXEwzh5"
      },
      "source": [
        "## Summary"
      ]
    }
  ],
  "metadata": {
    "colab": {
      "provenance": [],
      "include_colab_link": true
    },
    "kernelspec": {
      "display_name": "Python 3",
      "name": "python3"
    },
    "language_info": {
      "codemirror_mode": {
        "name": "ipython",
        "version": 3
      },
      "file_extension": ".py",
      "mimetype": "text/x-python",
      "name": "python",
      "nbconvert_exporter": "python",
      "pygments_lexer": "ipython3",
      "version": "3.7.0"
    },
    "accelerator": "TPU"
  },
  "nbformat": 4,
  "nbformat_minor": 0
}