{
  "cells": [
    {
      "cell_type": "markdown",
      "metadata": {
        "id": "view-in-github",
        "colab_type": "text"
      },
      "source": [
        "<a href=\"https://colab.research.google.com/github/rladbtls3/202401PracticeForAiDeeplearning/blob/main/chapter03_introduction_to_keras_and_tf_i%EC%9D%98_%EC%82%AC%EB%B3%B8.ipynb\" target=\"_parent\"><img src=\"https://colab.research.google.com/assets/colab-badge.svg\" alt=\"Open In Colab\"/></a>"
      ]
    },
    {
      "cell_type": "markdown",
      "metadata": {
        "id": "QA5MPYlZivoH"
      },
      "source": [
        "This is a companion notebook for the book [Deep Learning with Python, Second Edition](https://www.manning.com/books/deep-learning-with-python-second-edition?a_aid=keras&a_bid=76564dff). For readability, it only contains runnable code blocks and section titles, and omits everything else in the book: text paragraphs, figures, and pseudocode.\n",
        "\n",
        "**If you want to be able to follow what's going on, I recommend reading the notebook side by side with your copy of the book.**\n",
        "\n",
        "This notebook was generated for TensorFlow 2.6."
      ]
    },
    {
      "cell_type": "markdown",
      "metadata": {
        "id": "s7nzHbIsivoN"
      },
      "source": [
        "# Introduction to Keras and TensorFlow"
      ]
    },
    {
      "cell_type": "markdown",
      "metadata": {
        "id": "3SyTbqUpivoO"
      },
      "source": [
        "## What's TensorFlow?\n",
        "파이썬 기반 머신러닝 오픈소스, 구글 개발\n"
      ]
    },
    {
      "cell_type": "markdown",
      "metadata": {
        "id": "jagSchHmivoP"
      },
      "source": [
        "## What's Keras?\n",
        "딥러닝 API(파이썬)"
      ]
    },
    {
      "cell_type": "markdown",
      "metadata": {
        "id": "fTPQqx1eivoP"
      },
      "source": [
        "## Keras and TensorFlow: A brief history"
      ]
    },
    {
      "cell_type": "markdown",
      "metadata": {
        "id": "b_BqfflQivoQ"
      },
      "source": [
        "## Setting up a deep-learning workspace"
      ]
    },
    {
      "cell_type": "markdown",
      "metadata": {
        "id": "DLxWjw8livoQ"
      },
      "source": [
        "### Jupyter notebooks: The preferred way to run deep-learning experiments"
      ]
    },
    {
      "cell_type": "markdown",
      "metadata": {
        "id": "ulNr-R-4ivoR"
      },
      "source": [
        "### Using Colaboratory"
      ]
    },
    {
      "cell_type": "markdown",
      "metadata": {
        "id": "okVTvOE4ivoS"
      },
      "source": [
        "#### First steps with Colaboratory"
      ]
    },
    {
      "cell_type": "markdown",
      "metadata": {
        "id": "z6CTMAnAivoS"
      },
      "source": [
        "#### Installing packages with pip"
      ]
    },
    {
      "cell_type": "markdown",
      "metadata": {
        "id": "fuI0roqXivoS"
      },
      "source": [
        "#### Using the GPU runtime"
      ]
    },
    {
      "cell_type": "markdown",
      "metadata": {
        "id": "9pD1lCpFivoT"
      },
      "source": [
        "## First steps with TensorFlow"
      ]
    },
    {
      "cell_type": "markdown",
      "metadata": {
        "id": "bBPC6R38ivoT"
      },
      "source": [
        "#### Constant tensors and variables"
      ]
    },
    {
      "cell_type": "markdown",
      "metadata": {
        "id": "OPTzLhbVivoT"
      },
      "source": [
        "**All-ones or all-zeros tensors**"
      ]
    },
    {
      "cell_type": "code",
      "execution_count": null,
      "metadata": {
        "id": "kwRM7iZUivoT",
        "colab": {
          "base_uri": "https://localhost:8080/"
        },
        "outputId": "d67d9324-fa7e-45d5-dacc-88866f5d43db"
      },
      "outputs": [
        {
          "output_type": "stream",
          "name": "stdout",
          "text": [
            "tf.Tensor(\n",
            "[[1.]\n",
            " [1.]], shape=(2, 1), dtype=float32)\n"
          ]
        }
      ],
      "source": [
        "import tensorflow as tf\n",
        "x = tf.ones(shape=(2, 1))\n",
        "print(x)"
      ]
    },
    {
      "cell_type": "code",
      "execution_count": null,
      "metadata": {
        "id": "Ai8loWFNivoV",
        "colab": {
          "base_uri": "https://localhost:8080/"
        },
        "outputId": "8e97d1f1-f612-4276-c20c-3cb5b44e1db7"
      },
      "outputs": [
        {
          "output_type": "stream",
          "name": "stdout",
          "text": [
            "tf.Tensor(\n",
            "[[0.]\n",
            " [0.]], shape=(2, 1), dtype=float32)\n"
          ]
        }
      ],
      "source": [
        "x = tf.zeros(shape=(2, 1))\n",
        "print(x)"
      ]
    },
    {
      "cell_type": "markdown",
      "metadata": {
        "id": "MX7ZA5JJivoV"
      },
      "source": [
        "**Random tensors**"
      ]
    },
    {
      "cell_type": "code",
      "execution_count": null,
      "metadata": {
        "id": "WSvEwsuUivoV",
        "colab": {
          "base_uri": "https://localhost:8080/"
        },
        "outputId": "88185ffc-6703-40f7-c1a9-552729518ca5"
      },
      "outputs": [
        {
          "output_type": "stream",
          "name": "stdout",
          "text": [
            "tf.Tensor(\n",
            "[[ 0.9017365 ]\n",
            " [-0.09508494]\n",
            " [ 1.0054626 ]], shape=(3, 1), dtype=float32)\n"
          ]
        }
      ],
      "source": [
        "x = tf.random.normal(shape=(3, 1), mean=0., stddev=1.)#tensor의 차원, 평균, 표준오차\n",
        "print(x)"
      ]
    },
    {
      "cell_type": "code",
      "execution_count": null,
      "metadata": {
        "id": "aHTxy9NMivoV",
        "colab": {
          "base_uri": "https://localhost:8080/"
        },
        "outputId": "101697d9-f7a3-4213-e3f4-2b591fff139f"
      },
      "outputs": [
        {
          "output_type": "stream",
          "name": "stdout",
          "text": [
            "tf.Tensor(\n",
            "[[0.6601099 ]\n",
            " [0.28030336]\n",
            " [0.24778426]], shape=(3, 1), dtype=float32)\n"
          ]
        }
      ],
      "source": [
        "x = tf.random.uniform(shape=(3, 1), minval=0., maxval=1.)\n",
        "print(x)"
      ]
    },
    {
      "cell_type": "markdown",
      "metadata": {
        "id": "UB8yzjEDivoW"
      },
      "source": [
        "**NumPy arrays are assignable**"
      ]
    },
    {
      "cell_type": "code",
      "execution_count": null,
      "metadata": {
        "id": "5QsFFIGwivoW",
        "colab": {
          "base_uri": "https://localhost:8080/"
        },
        "outputId": "60eb3ced-9048-44de-83d3-9b22e690b589"
      },
      "outputs": [
        {
          "output_type": "execute_result",
          "data": {
            "text/plain": [
              "array([[0., 1.],\n",
              "       [1., 1.]])"
            ]
          },
          "metadata": {},
          "execution_count": 240
        }
      ],
      "source": [
        "import numpy as np\n",
        "x = np.ones(shape=(2, 2))\n",
        "x[0, 0] = 0.;x#주소 참조를 통한 값의 변경이 가능"
      ]
    },
    {
      "cell_type": "code",
      "source": [
        "\"\"\"\n",
        "그에 반해 tf는 주소 참조를 통한 값의 변경이 불가능하다.\n",
        "y = tf.ones(shape = (2,2))\n",
        "y[0,0] = 0 -> error\n",
        "\"\"\""
      ],
      "metadata": {
        "colab": {
          "base_uri": "https://localhost:8080/",
          "height": 35
        },
        "id": "_0T21uCllUAy",
        "outputId": "919c7b68-7756-49a0-8af5-50b24aa05137"
      },
      "execution_count": null,
      "outputs": [
        {
          "output_type": "execute_result",
          "data": {
            "text/plain": [
              "'\\n그에 반해 tf는 주소 참조를 통한 값의 변경이 불가능하다.\\ny = tf.ones(shape = (2,2))\\ny[0,0] = 0 -> error\\n'"
            ],
            "application/vnd.google.colaboratory.intrinsic+json": {
              "type": "string"
            }
          },
          "metadata": {},
          "execution_count": 241
        }
      ]
    },
    {
      "cell_type": "markdown",
      "metadata": {
        "id": "numryhrUivoW"
      },
      "source": [
        "**Creating a TensorFlow variable**"
      ]
    },
    {
      "cell_type": "code",
      "execution_count": null,
      "metadata": {
        "id": "XE3SybsAivoX",
        "colab": {
          "base_uri": "https://localhost:8080/"
        },
        "outputId": "674725d0-6449-465d-892f-fb5fda32cefc"
      },
      "outputs": [
        {
          "output_type": "stream",
          "name": "stdout",
          "text": [
            "<tf.Variable 'Variable:0' shape=(3, 1) dtype=float32, numpy=\n",
            "array([[-1.3945838 ],\n",
            "       [-0.5625872 ],\n",
            "       [ 0.49593648]], dtype=float32)>\n"
          ]
        }
      ],
      "source": [
        "#값을 변경할 수 있는 메서드\n",
        "#가중치 갱신을 위해서라도..\n",
        "v = tf.Variable(initial_value=tf.random.normal(shape=(3, 1)))\n",
        "print(v)"
      ]
    },
    {
      "cell_type": "markdown",
      "metadata": {
        "id": "-TZtBzKrivoX"
      },
      "source": [
        "**Assigning a value to a TensorFlow variable**"
      ]
    },
    {
      "cell_type": "code",
      "execution_count": null,
      "metadata": {
        "id": "jlBvaKTdivoX",
        "colab": {
          "base_uri": "https://localhost:8080/"
        },
        "outputId": "7c16762f-c8d9-407c-dfdc-9d9c1c34cfeb"
      },
      "outputs": [
        {
          "output_type": "execute_result",
          "data": {
            "text/plain": [
              "<tf.Variable 'UnreadVariable' shape=(3, 1) dtype=float32, numpy=\n",
              "array([[1.],\n",
              "       [1.],\n",
              "       [1.]], dtype=float32)>"
            ]
          },
          "metadata": {},
          "execution_count": 243
        }
      ],
      "source": [
        "#.assign 메서드를 이용하여 값 변경\n",
        "v.assign(tf.ones((3, 1)))"
      ]
    },
    {
      "cell_type": "markdown",
      "metadata": {
        "id": "Kvr407LaivoX"
      },
      "source": [
        "**Assigning a value to a subset of a TensorFlow variable**"
      ]
    },
    {
      "cell_type": "code",
      "execution_count": null,
      "metadata": {
        "id": "4cRSx1nfivoY",
        "colab": {
          "base_uri": "https://localhost:8080/"
        },
        "outputId": "85437575-b43e-4efd-a2e2-7e27df4c2df4"
      },
      "outputs": [
        {
          "output_type": "execute_result",
          "data": {
            "text/plain": [
              "<tf.Variable 'UnreadVariable' shape=(3, 1) dtype=float32, numpy=\n",
              "array([[3.],\n",
              "       [1.],\n",
              "       [1.]], dtype=float32)>"
            ]
          },
          "metadata": {},
          "execution_count": 244
        }
      ],
      "source": [
        "#특정 원소만 변경 가능\n",
        "v[0, 0].assign(3.)"
      ]
    },
    {
      "cell_type": "markdown",
      "metadata": {
        "id": "DtuO6h4HivoY"
      },
      "source": [
        "**Using `assign_add`**"
      ]
    },
    {
      "cell_type": "code",
      "execution_count": null,
      "metadata": {
        "id": "carX5vsOivoY",
        "colab": {
          "base_uri": "https://localhost:8080/"
        },
        "outputId": "6926d87a-8b4f-4e27-92a2-ae747fa57958"
      },
      "outputs": [
        {
          "output_type": "execute_result",
          "data": {
            "text/plain": [
              "<tf.Variable 'UnreadVariable' shape=(3, 1) dtype=float32, numpy=\n",
              "array([[4.],\n",
              "       [2.],\n",
              "       [2.]], dtype=float32)>"
            ]
          },
          "metadata": {},
          "execution_count": 245
        }
      ],
      "source": [
        "#.assing_add는 행렬 더하기 연산 후 원래 변수에 할당?\n",
        "v.assign_add(tf.ones((3, 1)))"
      ]
    },
    {
      "cell_type": "markdown",
      "metadata": {
        "id": "ORluYr8SivoY"
      },
      "source": [
        "#### Tensor operations: Doing math in TensorFlow"
      ]
    },
    {
      "cell_type": "markdown",
      "metadata": {
        "id": "xkSxuwgTivoY"
      },
      "source": [
        "**A few basic math operations**"
      ]
    },
    {
      "cell_type": "code",
      "execution_count": null,
      "metadata": {
        "id": "tVi0nRhKivoY",
        "colab": {
          "base_uri": "https://localhost:8080/"
        },
        "outputId": "9899f84a-4b8f-44fb-8757-bfaf3c0a2f8b"
      },
      "outputs": [
        {
          "output_type": "stream",
          "name": "stdout",
          "text": [
            "tf.Tensor(\n",
            "[[1. 1.]\n",
            " [1. 1.]], shape=(2, 2), dtype=float32) tf.Tensor(\n",
            "[[1. 1.]\n",
            " [1. 1.]], shape=(2, 2), dtype=float32) tf.Tensor(\n",
            "[[1. 1.]\n",
            " [1. 1.]], shape=(2, 2), dtype=float32) tf.Tensor(\n",
            "[[2. 2.]\n",
            " [2. 2.]], shape=(2, 2), dtype=float32) tf.Tensor(\n",
            "[[4. 4.]\n",
            " [4. 4.]], shape=(2, 2), dtype=float32)\n"
          ]
        }
      ],
      "source": [
        "a = tf.ones((2, 2))\n",
        "b = tf.square(a)#행렬 각 원소의 제곱\n",
        "c = tf.sqrt(a)#행렬 각 원소의 제곱근\n",
        "d = b + c#행렬 합연산\n",
        "e = tf.matmul(a, b)#행렬곱\n",
        "e *= d#e와 d를 곱한 결과를 e에 할당. 이 떄는 행렬곱이 아닌, 각 원소별 연산\n",
        "print(a,b,c,d,e)"
      ]
    },
    {
      "cell_type": "markdown",
      "metadata": {
        "id": "5EM6b1aNivoZ"
      },
      "source": [
        "#### A second look at the GradientTape API"
      ]
    },
    {
      "cell_type": "markdown",
      "metadata": {
        "id": "RHvFJWuPivoZ"
      },
      "source": [
        "**Using the `GradientTape`**"
      ]
    },
    {
      "cell_type": "code",
      "execution_count": null,
      "metadata": {
        "id": "wVGKQscNivoZ"
      },
      "outputs": [],
      "source": [
        "input_var = tf.Variable(initial_value=3.)\n",
        "with tf.GradientTape() as tape:\n",
        "   result = tf.square(input_var)\n",
        "gradient = tape.gradient(result, input_var)#자동 미분, 동적으로 미분값 확인 가능 / tape.gradient(loss, weight)"
      ]
    },
    {
      "cell_type": "markdown",
      "metadata": {
        "id": "-oVNnng9ivoZ"
      },
      "source": [
        "**Using `GradientTape` with constant tensor inputs**"
      ]
    },
    {
      "cell_type": "code",
      "execution_count": null,
      "metadata": {
        "id": "OREEAGi_ivoZ"
      },
      "outputs": [],
      "source": [
        "#변수가 아닌 상수 입력값의 경우...?\n",
        "input_const = tf.constant(3.)\n",
        "with tf.GradientTape() as tape:\n",
        "   tape.watch(input_const)\n",
        "   result = tf.square(input_const)\n",
        "gradient = tape.gradient(result, input_const)"
      ]
    },
    {
      "cell_type": "markdown",
      "metadata": {
        "id": "Vjnu2e2aivoZ"
      },
      "source": [
        "**Using nested gradient tapes to compute second-order gradients**"
      ]
    },
    {
      "cell_type": "code",
      "execution_count": null,
      "metadata": {
        "id": "f6PISv4Livoa"
      },
      "outputs": [],
      "source": [
        "time = tf.Variable(0.)\n",
        "with tf.GradientTape() as outer_tape:\n",
        "    with tf.GradientTape() as inner_tape:\n",
        "        position =  4.9 * time ** 2\n",
        "    speed = inner_tape.gradient(position, time)\n",
        "acceleration = outer_tape.gradient(speed, time)"
      ]
    },
    {
      "cell_type": "markdown",
      "metadata": {
        "id": "w0WTnV2bivof"
      },
      "source": [
        "#### An end-to-end example: A linear classifier in pure TensorFlow"
      ]
    },
    {
      "cell_type": "markdown",
      "metadata": {
        "id": "t-nTz-kCivog"
      },
      "source": [
        "**Generating two classes of random points in a 2D plane**"
      ]
    },
    {
      "cell_type": "code",
      "execution_count": null,
      "metadata": {
        "id": "A4XK4LpLivog"
      },
      "outputs": [],
      "source": [
        "num_samples_per_class = 1000\n",
        "negative_samples = np.random.multivariate_normal(\n",
        "    mean=[0, 3],\n",
        "    cov=[[1, 0.5],[0.5, 1]],\n",
        "    size=num_samples_per_class)\n",
        "positive_samples = np.random.multivariate_normal(\n",
        "    mean=[3, 0],\n",
        "    cov=[[1, 0.5],[0.5, 1]],\n",
        "    size=num_samples_per_class)"
      ]
    },
    {
      "cell_type": "markdown",
      "metadata": {
        "id": "88C94KDEivog"
      },
      "source": [
        "**Stacking the two classes into an array with shape (2000, 2)**"
      ]
    },
    {
      "cell_type": "code",
      "execution_count": null,
      "metadata": {
        "id": "oMcuGePAivog"
      },
      "outputs": [],
      "source": [
        "#입력 데이터 생성\n",
        "inputs = np.vstack((negative_samples, positive_samples)).astype(np.float32)"
      ]
    },
    {
      "cell_type": "markdown",
      "metadata": {
        "id": "j-O_vqkFivog"
      },
      "source": [
        "**Generating the corresponding targets (0 and 1)**"
      ]
    },
    {
      "cell_type": "code",
      "execution_count": null,
      "metadata": {
        "id": "iaQc_hf4ivoh"
      },
      "outputs": [],
      "source": [
        "targets = np.vstack((np.zeros((num_samples_per_class, 1), dtype=\"float32\"),\n",
        "                     np.ones((num_samples_per_class, 1), dtype=\"float32\")))"
      ]
    },
    {
      "cell_type": "markdown",
      "metadata": {
        "id": "vTCI66lxivoh"
      },
      "source": [
        "**Plotting the two point classes**"
      ]
    },
    {
      "cell_type": "code",
      "execution_count": null,
      "metadata": {
        "id": "mC3Ukl73ivoh",
        "colab": {
          "base_uri": "https://localhost:8080/",
          "height": 430
        },
        "outputId": "bdb1e288-6e42-49f1-d261-816d576b8203"
      },
      "outputs": [
        {
          "output_type": "display_data",
          "data": {
            "text/plain": [
              "<Figure size 640x480 with 1 Axes>"
            ],
            "image/png": "[encoded data removed]"
          },
          "metadata": {}
        }
      ],
      "source": [
        "import matplotlib.pyplot as plt\n",
        "plt.scatter(inputs[:, 0], inputs[:, 1], c=targets[:, 0])\n",
        "plt.show()"
      ]
    },
    {
      "cell_type": "markdown",
      "metadata": {
        "id": "QyW2o_Mpivoi"
      },
      "source": [
        "**Creating the linear classifier variables**"
      ]
    },
    {
      "cell_type": "code",
      "execution_count": null,
      "metadata": {
        "id": "vInvaEqkivoi"
      },
      "outputs": [],
      "source": [
        "#선형 분류. 두 그룹의 경계선을 적합...?\n",
        "input_dim = 2\n",
        "output_dim = 1\n",
        "W = tf.Variable(initial_value=tf.random.uniform(shape=(input_dim, output_dim)))\n",
        "b = tf.Variable(initial_value=tf.zeros(shape=(output_dim,)))"
      ]
    },
    {
      "cell_type": "markdown",
      "metadata": {
        "id": "gDl0R4UDivoi"
      },
      "source": [
        "**The forward pass function**"
      ]
    },
    {
      "cell_type": "code",
      "execution_count": null,
      "metadata": {
        "id": "fB4KzoLgivoi"
      },
      "outputs": [],
      "source": [
        "def model(inputs):\n",
        "    return tf.matmul(inputs, W) + b\n",
        "#가중합 + 오차 를 반환받는 함수 model"
      ]
    },
    {
      "cell_type": "markdown",
      "metadata": {
        "id": "vW17UyH6ivoi"
      },
      "source": [
        "**The mean squared error loss function**"
      ]
    },
    {
      "cell_type": "code",
      "execution_count": null,
      "metadata": {
        "id": "cdljHYEIivoj"
      },
      "outputs": [],
      "source": [
        "#손실함수 정의\n",
        "def square_loss(targets, predictions):\n",
        "    per_sample_losses = tf.square(targets - predictions)#잔차제곱합?\n",
        "    return tf.reduce_mean(per_sample_losses)#잔차제곱합의 평균을 반환하는 함수"
      ]
    },
    {
      "cell_type": "markdown",
      "metadata": {
        "id": "IkpEp50Vivoj"
      },
      "source": [
        "**The training step function**"
      ]
    },
    {
      "cell_type": "code",
      "execution_count": null,
      "metadata": {
        "id": "aNwp_8drivoj"
      },
      "outputs": [],
      "source": [
        "#경사하강법을 이용한 모델 만들기\n",
        "learning_rate = 0.1\n",
        "\n",
        "def training_step(inputs, targets):\n",
        "    with tf.GradientTape() as tape:\n",
        "        predictions = model(inputs)\n",
        "        loss = square_loss(targets, predictions)\n",
        "    grad_loss_wrt_W, grad_loss_wrt_b = tape.gradient(loss, [W, b])\n",
        "    W.assign_sub(grad_loss_wrt_W * learning_rate)\n",
        "    b.assign_sub(grad_loss_wrt_b * learning_rate)\n",
        "    return loss"
      ]
    },
    {
      "cell_type": "markdown",
      "metadata": {
        "id": "PfeMMuW9ivoj"
      },
      "source": [
        "**The batch training loop**"
      ]
    },
    {
      "cell_type": "code",
      "execution_count": null,
      "metadata": {
        "id": "kO8oauOsivoj",
        "colab": {
          "base_uri": "https://localhost:8080/"
        },
        "outputId": "2873a113-9916-4770-eea0-968a9de6c3aa"
      },
      "outputs": [
        {
          "output_type": "stream",
          "name": "stdout",
          "text": [
            "Loss at step 1: 8.4882\n",
            "Loss at step 2: 1.1349\n",
            "Loss at step 3: 0.2926\n",
            "Loss at step 4: 0.1824\n",
            "Loss at step 5: 0.1588\n",
            "Loss at step 6: 0.1463\n",
            "Loss at step 7: 0.1359\n",
            "Loss at step 8: 0.1266\n",
            "Loss at step 9: 0.1180\n",
            "Loss at step 10: 0.1102\n",
            "Loss at step 11: 0.1030\n",
            "Loss at step 12: 0.0965\n",
            "Loss at step 13: 0.0905\n",
            "Loss at step 14: 0.0850\n",
            "Loss at step 15: 0.0800\n",
            "Loss at step 16: 0.0755\n",
            "Loss at step 17: 0.0713\n",
            "Loss at step 18: 0.0674\n",
            "Loss at step 19: 0.0639\n",
            "Loss at step 20: 0.0607\n",
            "Loss at step 21: 0.0578\n",
            "Loss at step 22: 0.0551\n",
            "Loss at step 23: 0.0527\n",
            "Loss at step 24: 0.0505\n",
            "Loss at step 25: 0.0484\n",
            "Loss at step 26: 0.0465\n",
            "Loss at step 27: 0.0448\n",
            "Loss at step 28: 0.0433\n",
            "Loss at step 29: 0.0418\n",
            "Loss at step 30: 0.0405\n",
            "Loss at step 31: 0.0393\n",
            "Loss at step 32: 0.0382\n",
            "Loss at step 33: 0.0372\n",
            "Loss at step 34: 0.0363\n",
            "Loss at step 35: 0.0355\n",
            "Loss at step 36: 0.0347\n",
            "Loss at step 37: 0.0340\n",
            "Loss at step 38: 0.0334\n",
            "Loss at step 39: 0.0328\n",
            "Loss at step 40: 0.0323\n"
          ]
        }
      ],
      "source": [
        "#rnage 안의 수가 batch size. 바꾸면서 분류 시켜보면 적합선이 어찌 적합되는지를 볼 수 있다.\n",
        "for step in range(40):\n",
        "    loss = training_step(inputs, targets)\n",
        "    print(f\"Loss at step {step+1}: {loss:.4f}\")"
      ]
    },
    {
      "cell_type": "code",
      "execution_count": null,
      "metadata": {
        "id": "gzpG9oOjivok",
        "colab": {
          "base_uri": "https://localhost:8080/",
          "height": 430
        },
        "outputId": "f4dd4ec8-7f99-490c-fd86-112807cfac4d"
      },
      "outputs": [
        {
          "output_type": "display_data",
          "data": {
            "text/plain": [
              "<Figure size 640x480 with 1 Axes>"
            ],
            "image/png": "[encoded data removed]"
          },
          "metadata": {}
        }
      ],
      "source": [
        "predictions = model(inputs)\n",
        "plt.scatter(inputs[:, 0], inputs[:, 1], c=predictions[:, 0] > 0.5)\n",
        "plt.show()"
      ]
    },
    {
      "cell_type": "code",
      "execution_count": null,
      "metadata": {
        "id": "IlwlVSdRivok",
        "colab": {
          "base_uri": "https://localhost:8080/",
          "height": 448
        },
        "outputId": "1b9bc84e-13ef-4aa0-b143-aec44ed998c6"
      },
      "outputs": [
        {
          "output_type": "execute_result",
          "data": {
            "text/plain": [
              "<matplotlib.collections.PathCollection at 0x7fc54c31ca00>"
            ]
          },
          "metadata": {},
          "execution_count": 260
        },
        {
          "output_type": "display_data",
          "data": {
            "text/plain": [
              "<Figure size 640x480 with 1 Axes>"
            ],
            "image/png": "[encoded data removed]"
          },
          "metadata": {}
        }
      ],
      "source": [
        "#적합된 분류선을 그려주기\n",
        "x = np.linspace(-1, 4, 100)\n",
        "y = - W[0] /  W[1] * x + (0.5 - b) / W[1]\n",
        "plt.plot(x, y, \"-r\")\n",
        "plt.scatter(inputs[:, 0], inputs[:, 1], c=predictions[:, 0] > 0.5)"
      ]
    },
    {
      "cell_type": "markdown",
      "metadata": {
        "id": "WHUdgJJKivok"
      },
      "source": [
        "## Anatomy of a neural network: Understanding core Keras APIs"
      ]
    },
    {
      "cell_type": "markdown",
      "metadata": {
        "id": "GZolmcY2ivok"
      },
      "source": [
        "### Layers: The building blocks of deep learning"
      ]
    },
    {
      "cell_type": "markdown",
      "metadata": {
        "id": "_T2IVWUCivol"
      },
      "source": [
        "#### The base Layer class in Keras"
      ]
    },
    {
      "cell_type": "markdown",
      "metadata": {
        "id": "l3d84JNIivol"
      },
      "source": [
        "**A `Dense` layer implemented as a `Layer` subclass**"
      ]
    },
    {
      "cell_type": "code",
      "execution_count": null,
      "metadata": {
        "id": "s_2QlG2Xivol"
      },
      "outputs": [],
      "source": [
        "from tensorflow import keras\n",
        "\n",
        "class SimpleDense(keras.layers.Layer):#케라스 기본 레이어 클래스\n",
        "\n",
        "    def __init__(self, units, activation=None):\n",
        "        super().__init__()\n",
        "        self.units = units#출력 차원\n",
        "        self.activation = activation\n",
        "\n",
        "    def build(self, input_shape):\n",
        "        input_dim = input_shape[-1]\n",
        "        self.W = self.add_weight(shape=(input_dim, self.units),\n",
        "                                 initializer=\"random_normal\")\n",
        "        self.b = self.add_weight(shape=(self.units,),\n",
        "                                 initializer=\"zeros\")\n",
        "\n",
        "    def call(self, inputs):\n",
        "        y = tf.matmul(inputs, self.W) + self.b\n",
        "        if self.activation is not None:\n",
        "            y = self.activation(y)\n",
        "        return y"
      ]
    },
    {
      "cell_type": "code",
      "execution_count": null,
      "metadata": {
        "id": "sD5R0fr2ivol",
        "colab": {
          "base_uri": "https://localhost:8080/"
        },
        "outputId": "e5a89920-cc73-45f2-d78f-68bb202e477d"
      },
      "outputs": [
        {
          "output_type": "stream",
          "name": "stdout",
          "text": [
            "(2, 32)\n"
          ]
        }
      ],
      "source": [
        "my_dense = SimpleDense(units=32, activation=tf.nn.relu)#(output_size, activation_func)\n",
        "input_tensor = tf.ones(shape=(2, 784))\n",
        "output_tensor = my_dense(input_tensor)\n",
        "print(output_tensor.shape)"
      ]
    },
    {
      "cell_type": "markdown",
      "metadata": {
        "id": "thnil40bivoo"
      },
      "source": [
        "#### Automatic shape inference: Building layers on the fly"
      ]
    },
    {
      "cell_type": "code",
      "execution_count": null,
      "metadata": {
        "id": "vabtw4Z_ivoo"
      },
      "outputs": [],
      "source": [
        "#이젠 텐서플로를 이용, layer를 만들어보자\n",
        "from tensorflow.keras import layers\n",
        "layer = layers.Dense(32, activation=\"relu\")"
      ]
    },
    {
      "cell_type": "code",
      "execution_count": null,
      "metadata": {
        "id": "VStWafjiivoo"
      },
      "outputs": [],
      "source": [
        "from tensorflow.keras import models\n",
        "from tensorflow.keras import layers\n",
        "model = models.Sequential([\n",
        "    layers.Dense(32, activation=\"relu\"),\n",
        "    layers.Dense(32)\n",
        "])"
      ]
    },
    {
      "cell_type": "code",
      "execution_count": null,
      "metadata": {
        "id": "_tXFv3Ktivoo"
      },
      "outputs": [],
      "source": [
        "model = keras.Sequential([\n",
        "    SimpleDense(32, activation=\"relu\"),\n",
        "    SimpleDense(64, activation=\"relu\"),\n",
        "    SimpleDense(32, activation=\"relu\"),\n",
        "    SimpleDense(10, activation=\"softmax\")\n",
        "])"
      ]
    },
    {
      "cell_type": "markdown",
      "metadata": {
        "id": "b3FB2BFYivoo"
      },
      "source": [
        "### From layers to models"
      ]
    },
    {
      "cell_type": "markdown",
      "metadata": {
        "id": "f5IGH2dcivop"
      },
      "source": [
        "### The \"compile\" step: Configuring the learning process"
      ]
    },
    {
      "cell_type": "code",
      "execution_count": null,
      "metadata": {
        "id": "rULoRb6civop"
      },
      "outputs": [],
      "source": [
        "model = keras.Sequential([keras.layers.Dense(1)])\n",
        "model.compile(optimizer=\"rmsprop\",\n",
        "              loss=\"mean_squared_error\",\n",
        "              metrics=[\"accuracy\"])"
      ]
    },
    {
      "cell_type": "code",
      "execution_count": null,
      "metadata": {
        "id": "EezmLFn7ivop"
      },
      "outputs": [],
      "source": [
        "model.compile(optimizer=keras.optimizers.RMSprop(),\n",
        "              loss=keras.losses.MeanSquaredError(),\n",
        "              metrics=[keras.metrics.BinaryAccuracy()])"
      ]
    },
    {
      "cell_type": "markdown",
      "metadata": {
        "id": "fSDp36_Fivop"
      },
      "source": [
        "### Picking a loss function"
      ]
    },
    {
      "cell_type": "markdown",
      "metadata": {
        "id": "t_NMuZovivoq"
      },
      "source": [
        "### Understanding the fit() method"
      ]
    },
    {
      "cell_type": "markdown",
      "metadata": {
        "id": "U8GWZ_O-ivoq"
      },
      "source": [
        "**Calling `fit()` with NumPy data**"
      ]
    },
    {
      "cell_type": "code",
      "execution_count": null,
      "metadata": {
        "id": "uLo5a9Oiivoq",
        "colab": {
          "base_uri": "https://localhost:8080/"
        },
        "outputId": "25c480d1-9caa-48ba-bc0b-fd9aca8cf03e"
      },
      "outputs": [
        {
          "output_type": "stream",
          "name": "stdout",
          "text": [
            "Epoch 1/5\n",
            "16/16 [==============================] - 0s 3ms/step - loss: 0.3079 - binary_accuracy: 0.5000\n",
            "Epoch 2/5\n",
            "16/16 [==============================] - 0s 3ms/step - loss: 0.2537 - binary_accuracy: 0.5050\n",
            "Epoch 3/5\n",
            "16/16 [==============================] - 0s 3ms/step - loss: 0.2131 - binary_accuracy: 0.5465\n",
            "Epoch 4/5\n",
            "16/16 [==============================] - 0s 3ms/step - loss: 0.1782 - binary_accuracy: 0.6265\n",
            "Epoch 5/5\n",
            "16/16 [==============================] - 0s 4ms/step - loss: 0.1486 - binary_accuracy: 0.7170\n"
          ]
        }
      ],
      "source": [
        "history = model.fit(\n",
        "    inputs,\n",
        "    targets,\n",
        "    epochs=5,\n",
        "    batch_size=128\n",
        ")\n",
        "#모델 적합"
      ]
    },
    {
      "cell_type": "code",
      "execution_count": null,
      "metadata": {
        "id": "sDNLgvKKivoq",
        "colab": {
          "base_uri": "https://localhost:8080/"
        },
        "outputId": "d7a55b37-3aff-40df-eb51-eaab608dc957"
      },
      "outputs": [
        {
          "output_type": "execute_result",
          "data": {
            "text/plain": [
              "{'loss': [0.3078666031360626,\n",
              "  0.25371646881103516,\n",
              "  0.21307970583438873,\n",
              "  0.17824597656726837,\n",
              "  0.1486315131187439],\n",
              " 'binary_accuracy': [0.5,\n",
              "  0.5049999952316284,\n",
              "  0.546500027179718,\n",
              "  0.6265000104904175,\n",
              "  0.7170000076293945]}"
            ]
          },
          "metadata": {},
          "execution_count": 269
        }
      ],
      "source": [
        "history.history"
      ]
    },
    {
      "cell_type": "markdown",
      "metadata": {
        "id": "VoMN_HKCivoq"
      },
      "source": [
        "### Monitoring loss and metrics on validation data"
      ]
    },
    {
      "cell_type": "markdown",
      "metadata": {
        "id": "NGTPF947ivoq"
      },
      "source": [
        "**Using the `validation_data` argument**"
      ]
    },
    {
      "cell_type": "code",
      "execution_count": null,
      "metadata": {
        "id": "b0-JMlZEivor",
        "colab": {
          "base_uri": "https://localhost:8080/"
        },
        "outputId": "d2d66d36-7355-439f-b0dd-a41ec383aa0e"
      },
      "outputs": [
        {
          "output_type": "stream",
          "name": "stdout",
          "text": [
            "Epoch 1/5\n",
            "88/88 [==============================] - 1s 5ms/step - loss: 0.3759 - binary_accuracy: 0.8907 - val_loss: 0.1145 - val_binary_accuracy: 0.9167\n",
            "Epoch 2/5\n",
            "88/88 [==============================] - 0s 4ms/step - loss: 0.0742 - binary_accuracy: 0.9493 - val_loss: 0.0292 - val_binary_accuracy: 0.9967\n",
            "Epoch 3/5\n",
            "88/88 [==============================] - 0s 4ms/step - loss: 0.0733 - binary_accuracy: 0.9536 - val_loss: 0.3391 - val_binary_accuracy: 0.7767\n",
            "Epoch 4/5\n",
            "88/88 [==============================] - 0s 4ms/step - loss: 0.0686 - binary_accuracy: 0.9614 - val_loss: 0.0524 - val_binary_accuracy: 0.9867\n",
            "Epoch 5/5\n",
            "88/88 [==============================] - 0s 5ms/step - loss: 0.0717 - binary_accuracy: 0.9543 - val_loss: 0.0562 - val_binary_accuracy: 0.9800\n"
          ]
        },
        {
          "output_type": "execute_result",
          "data": {
            "text/plain": [
              "<keras.src.callbacks.History at 0x7fc54c2293c0>"
            ]
          },
          "metadata": {},
          "execution_count": 270
        }
      ],
      "source": [
        "#검증 데이터를 이용, 학습이 완료된 모델의 성능 평가\n",
        "model = keras.Sequential([keras.layers.Dense(1)])\n",
        "model.compile(optimizer=keras.optimizers.RMSprop(learning_rate=0.1),\n",
        "              loss=keras.losses.MeanSquaredError(),\n",
        "              metrics=[keras.metrics.BinaryAccuracy()])\n",
        "\n",
        "indices_permutation = np.random.permutation(len(inputs))\n",
        "shuffled_inputs = inputs[indices_permutation]\n",
        "shuffled_targets = targets[indices_permutation]\n",
        "\n",
        "num_validation_samples = int(0.3 * len(inputs))\n",
        "#전체 데이터를 학습 7, 검증 3으로 분할\n",
        "val_inputs = shuffled_inputs[:num_validation_samples]\n",
        "val_targets = shuffled_targets[:num_validation_samples]\n",
        "training_inputs = shuffled_inputs[num_validation_samples:]\n",
        "training_targets = shuffled_targets[num_validation_samples:]\n",
        "model.fit(\n",
        "    training_inputs,\n",
        "    training_targets,\n",
        "    epochs=5,\n",
        "    batch_size=16,\n",
        "    validation_data=(val_inputs, val_targets)#이를 통해 과적합 등을 판단 가능\n",
        ")"
      ]
    },
    {
      "cell_type": "markdown",
      "metadata": {
        "id": "CkKK8Bw0ivor"
      },
      "source": [
        "### Inference: Using a model after training"
      ]
    },
    {
      "cell_type": "code",
      "execution_count": null,
      "metadata": {
        "id": "xFmLE2S3ivor",
        "colab": {
          "base_uri": "https://localhost:8080/"
        },
        "outputId": "6279771f-9baa-45c8-8fdc-c08f9a151ed6"
      },
      "outputs": [
        {
          "output_type": "stream",
          "name": "stdout",
          "text": [
            "5/5 [==============================] - 0s 4ms/step\n",
            "[[ 0.03610805]\n",
            " [-0.05368221]\n",
            " [ 0.6953025 ]\n",
            " [-0.21283206]\n",
            " [ 0.9520513 ]\n",
            " [ 1.0416235 ]\n",
            " [-0.16711631]\n",
            " [ 0.68323725]\n",
            " [-0.20796451]\n",
            " [ 0.726894  ]]\n"
          ]
        }
      ],
      "source": [
        "predictions = model.predict(val_inputs, batch_size=128)#학습 종료 후, 모델의 예측력을 확인하기 위해 예측에 사용\n",
        "print(predictions[:10])"
      ]
    },
    {
      "cell_type": "markdown",
      "metadata": {
        "id": "l3Yn9US5ivor"
      },
      "source": [
        "## Summary"
      ]
    }
  ],
  "metadata": {
    "colab": {
      "provenance": [],
      "gpuType": "T4",
      "include_colab_link": true
    },
    "kernelspec": {
      "display_name": "Python 3",
      "name": "python3"
    },
    "language_info": {
      "codemirror_mode": {
        "name": "ipython",
        "version": 3
      },
      "file_extension": ".py",
      "mimetype": "text/x-python",
      "name": "python",
      "nbconvert_exporter": "python",
      "pygments_lexer": "ipython3",
      "version": "3.7.0"
    },
    "accelerator": "GPU"
  },
  "nbformat": 4,
  "nbformat_minor": 0
}